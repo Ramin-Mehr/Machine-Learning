{
 "cells": [
  {
   "cell_type": "markdown",
   "id": "ce74fd15",
   "metadata": {},
   "source": [
    "# Business Problem Understanding"
   ]
  },
  {
   "cell_type": "markdown",
   "id": "4f93d4ad",
   "metadata": {},
   "source": [
    "CCP (Churn Customer Prediction):\n",
    "following my experience and career in Telco Industry (MTN-Irancell), prediction on churn and how to increase the revenue of the company with different campaigns and make the customer more loyal is one of the most challenging problems which the baseline of all actions is to know the churn ratio on our products and our customers.\n",
    "\n",
    "For this practice, a Dataset that has been chosen is from Kaggle which initially from the IBM (Telco customer churn (11.1.3+), 2022) is related to a telco industry with 7k records and 20 features \"WA_Fn-UseC_-Telco-Customer-Churn.CSV\" \n",
    "\n",
    "As our target is to distinguish the churn customers which are identified with \"Yes\"/\"No\" in a specific field \"Churn\". we have a classification task in Machine Learning. for this purpose we tried different ML classification algorithms such as Decision Tree, SVM, Gaussian Naive Bayes, KNN, and  Logistic Regression, each algorithm has its pros and cons; with different measurement criteria we will choose one of them and explain our hypothesis.\n",
    "\n",
    "\n",
    "Download link for Dataset:\n",
    "\n",
    "https://drive.google.com/drive/folders/1tVeHMCC-L7UBGAf5vRRHrLr8qhdkKtRs\n"
   ]
  },
  {
   "cell_type": "markdown",
   "id": "313b6e32",
   "metadata": {},
   "source": [
    "# Variable Description"
   ]
  },
  {
   "cell_type": "markdown",
   "id": "87f104ff",
   "metadata": {},
   "source": [
    "01.\tcustomerID: Unique Values\n",
    "02.\tgender: Whether the customer is a male or a female\n",
    "03.\tSeniorCitizen: Indicates if the customer is 65 or older (1, 0)/: Yes, No\n",
    "04.\tPartner: Whether the customer has a partner or not (Yes, No)\n",
    "05.\tDependents: Whether the customer has dependents or not (Yes, No)\n",
    "06.\tTenure: Number of months the customer has stayed with the company\n",
    "07.\tPhoneService: Whether the customer has a phone service or not (Yes, No)\n",
    "08.\tMultipleLines: Whether the customer has multiple lines or not (Yes, No, No phone service)\n",
    "09.\tInternetService: Customer’s internet service provider (DSL, Fiber optic, No)\n",
    "10.\tOnlineSecurity: Whether the customer has online security or not (Yes, No, No internet service)\n",
    "11.\tOnlineBackup: Whether the customer has online backup or not (Yes, No, No internet service)\n",
    "12.\tDeviceProtection: Whether the customer has device protection or not (Yes, No, No internet service)\n",
    "13.\tTechSupport: Whether the customer has tech support or not (Yes, No, No internet service)\n",
    "14.\tStreamingTV: Whether the customer has streaming TV or not (Yes, No, No internet service)\n",
    "15.\tStreamingMovies: Whether the customer has streaming movies or not (Yes, No, No internet service)\n",
    "16.\tContract: The contract term of the customer (Month-to-month, One year, Two year)\n",
    "17.\tPaperlessBilling: Whether the customer has paperless billing or not (Yes, No)\n",
    "18.\tPaymentMethod: The customer’s payment method (Electronic check, Mailed check, Bank transfer (automatic), Credit card (automatic))\n",
    "19.\tMonthlyCharges: The amount charged to the customer monthly\n",
    "20.\tTotalCharges: The total amount charged to the customer\n",
    "21.\tChurn: Customers who left within the last month, the column is called Churn (Yes or No)\n"
   ]
  },
  {
   "cell_type": "markdown",
   "id": "8d09e74d",
   "metadata": {},
   "source": [
    "# 1 Importing Libraries"
   ]
  },
  {
   "cell_type": "markdown",
   "id": "de1f59f6",
   "metadata": {},
   "source": [
    "Importing libraries such as:\n",
    "1. pandas for data analysis.\n",
    "2. numpy for working with arrays.\n",
    "3. plotly and seaborn for representing graphs and plots\n",
    "4. sklearn and sub-libraries for machine learning algorithms.\n",
    "5. imblearn and LabelEncoder for Feature Engineering\n",
    "6. beautifultable and termcolr for table creation"
   ]
  },
  {
   "cell_type": "code",
   "execution_count": 1,
   "id": "48bd03d7",
   "metadata": {},
   "outputs": [],
   "source": [
    "import pandas as pd\n",
    "import numpy as np\n",
    "import matplotlib.pyplot as plt\n",
    "import seaborn as sns\n",
    "from beautifultable import BeautifulTable\n",
    "from termcolor import colored\n",
    "\n",
    "import sklearn\n",
    "from sklearn.model_selection import train_test_split\n",
    "from sklearn.preprocessing import LabelEncoder\n",
    "from sklearn.tree import DecisionTreeClassifier\n",
    "from sklearn.naive_bayes import GaussianNB\n",
    "from sklearn.linear_model import LogisticRegression\n",
    "from sklearn import linear_model\n",
    "from sklearn import tree\n",
    "from sklearn import neighbors\n",
    "from sklearn.model_selection import GridSearchCV\n",
    "from sklearn import preprocessing\n",
    "from sklearn import model_selection\n",
    "from sklearn import tree\n",
    "import imblearn.over_sampling"
   ]
  },
  {
   "cell_type": "markdown",
   "id": "44634a74",
   "metadata": {},
   "source": [
    "# 2 Data Collection"
   ]
  },
  {
   "cell_type": "markdown",
   "id": "a207e75e",
   "metadata": {},
   "source": [
    "# Importing Data"
   ]
  },
  {
   "cell_type": "markdown",
   "id": "93f39a2f",
   "metadata": {},
   "source": [
    "Importing our dataset and indexing customerID as it is a unique ID, it is not a feature that we need to use for our model.\n",
    "\n",
    "Represent first five rows as default"
   ]
  },
  {
   "cell_type": "code",
   "execution_count": 2,
   "id": "df0d8601",
   "metadata": {
    "scrolled": true
   },
   "outputs": [
    {
     "data": {
      "text/html": [
       "<div>\n",
       "<style scoped>\n",
       "    .dataframe tbody tr th:only-of-type {\n",
       "        vertical-align: middle;\n",
       "    }\n",
       "\n",
       "    .dataframe tbody tr th {\n",
       "        vertical-align: top;\n",
       "    }\n",
       "\n",
       "    .dataframe thead th {\n",
       "        text-align: right;\n",
       "    }\n",
       "</style>\n",
       "<table border=\"1\" class=\"dataframe\">\n",
       "  <thead>\n",
       "    <tr style=\"text-align: right;\">\n",
       "      <th></th>\n",
       "      <th>gender</th>\n",
       "      <th>SeniorCitizen</th>\n",
       "      <th>Partner</th>\n",
       "      <th>Dependents</th>\n",
       "      <th>tenure</th>\n",
       "      <th>PhoneService</th>\n",
       "      <th>MultipleLines</th>\n",
       "      <th>InternetService</th>\n",
       "      <th>OnlineSecurity</th>\n",
       "      <th>OnlineBackup</th>\n",
       "      <th>DeviceProtection</th>\n",
       "      <th>TechSupport</th>\n",
       "      <th>StreamingTV</th>\n",
       "      <th>StreamingMovies</th>\n",
       "      <th>Contract</th>\n",
       "      <th>PaperlessBilling</th>\n",
       "      <th>PaymentMethod</th>\n",
       "      <th>MonthlyCharges</th>\n",
       "      <th>TotalCharges</th>\n",
       "      <th>Churn</th>\n",
       "    </tr>\n",
       "    <tr>\n",
       "      <th>customerID</th>\n",
       "      <th></th>\n",
       "      <th></th>\n",
       "      <th></th>\n",
       "      <th></th>\n",
       "      <th></th>\n",
       "      <th></th>\n",
       "      <th></th>\n",
       "      <th></th>\n",
       "      <th></th>\n",
       "      <th></th>\n",
       "      <th></th>\n",
       "      <th></th>\n",
       "      <th></th>\n",
       "      <th></th>\n",
       "      <th></th>\n",
       "      <th></th>\n",
       "      <th></th>\n",
       "      <th></th>\n",
       "      <th></th>\n",
       "      <th></th>\n",
       "    </tr>\n",
       "  </thead>\n",
       "  <tbody>\n",
       "    <tr>\n",
       "      <th>7590-VHVEG</th>\n",
       "      <td>Female</td>\n",
       "      <td>0</td>\n",
       "      <td>Yes</td>\n",
       "      <td>No</td>\n",
       "      <td>1</td>\n",
       "      <td>No</td>\n",
       "      <td>No phone service</td>\n",
       "      <td>DSL</td>\n",
       "      <td>No</td>\n",
       "      <td>Yes</td>\n",
       "      <td>No</td>\n",
       "      <td>No</td>\n",
       "      <td>No</td>\n",
       "      <td>No</td>\n",
       "      <td>Month-to-month</td>\n",
       "      <td>Yes</td>\n",
       "      <td>Electronic check</td>\n",
       "      <td>29.85</td>\n",
       "      <td>29.85</td>\n",
       "      <td>No</td>\n",
       "    </tr>\n",
       "    <tr>\n",
       "      <th>5575-GNVDE</th>\n",
       "      <td>Male</td>\n",
       "      <td>0</td>\n",
       "      <td>No</td>\n",
       "      <td>No</td>\n",
       "      <td>34</td>\n",
       "      <td>Yes</td>\n",
       "      <td>No</td>\n",
       "      <td>DSL</td>\n",
       "      <td>Yes</td>\n",
       "      <td>No</td>\n",
       "      <td>Yes</td>\n",
       "      <td>No</td>\n",
       "      <td>No</td>\n",
       "      <td>No</td>\n",
       "      <td>One year</td>\n",
       "      <td>No</td>\n",
       "      <td>Mailed check</td>\n",
       "      <td>56.95</td>\n",
       "      <td>1889.5</td>\n",
       "      <td>No</td>\n",
       "    </tr>\n",
       "    <tr>\n",
       "      <th>3668-QPYBK</th>\n",
       "      <td>Male</td>\n",
       "      <td>0</td>\n",
       "      <td>No</td>\n",
       "      <td>No</td>\n",
       "      <td>2</td>\n",
       "      <td>Yes</td>\n",
       "      <td>No</td>\n",
       "      <td>DSL</td>\n",
       "      <td>Yes</td>\n",
       "      <td>Yes</td>\n",
       "      <td>No</td>\n",
       "      <td>No</td>\n",
       "      <td>No</td>\n",
       "      <td>No</td>\n",
       "      <td>Month-to-month</td>\n",
       "      <td>Yes</td>\n",
       "      <td>Mailed check</td>\n",
       "      <td>53.85</td>\n",
       "      <td>108.15</td>\n",
       "      <td>Yes</td>\n",
       "    </tr>\n",
       "    <tr>\n",
       "      <th>7795-CFOCW</th>\n",
       "      <td>Male</td>\n",
       "      <td>0</td>\n",
       "      <td>No</td>\n",
       "      <td>No</td>\n",
       "      <td>45</td>\n",
       "      <td>No</td>\n",
       "      <td>No phone service</td>\n",
       "      <td>DSL</td>\n",
       "      <td>Yes</td>\n",
       "      <td>No</td>\n",
       "      <td>Yes</td>\n",
       "      <td>Yes</td>\n",
       "      <td>No</td>\n",
       "      <td>No</td>\n",
       "      <td>One year</td>\n",
       "      <td>No</td>\n",
       "      <td>Bank transfer (automatic)</td>\n",
       "      <td>42.30</td>\n",
       "      <td>1840.75</td>\n",
       "      <td>No</td>\n",
       "    </tr>\n",
       "    <tr>\n",
       "      <th>9237-HQITU</th>\n",
       "      <td>Female</td>\n",
       "      <td>0</td>\n",
       "      <td>No</td>\n",
       "      <td>No</td>\n",
       "      <td>2</td>\n",
       "      <td>Yes</td>\n",
       "      <td>No</td>\n",
       "      <td>Fiber optic</td>\n",
       "      <td>No</td>\n",
       "      <td>No</td>\n",
       "      <td>No</td>\n",
       "      <td>No</td>\n",
       "      <td>No</td>\n",
       "      <td>No</td>\n",
       "      <td>Month-to-month</td>\n",
       "      <td>Yes</td>\n",
       "      <td>Electronic check</td>\n",
       "      <td>70.70</td>\n",
       "      <td>151.65</td>\n",
       "      <td>Yes</td>\n",
       "    </tr>\n",
       "  </tbody>\n",
       "</table>\n",
       "</div>"
      ],
      "text/plain": [
       "            gender  SeniorCitizen Partner Dependents  tenure PhoneService  \\\n",
       "customerID                                                                  \n",
       "7590-VHVEG  Female              0     Yes         No       1           No   \n",
       "5575-GNVDE    Male              0      No         No      34          Yes   \n",
       "3668-QPYBK    Male              0      No         No       2          Yes   \n",
       "7795-CFOCW    Male              0      No         No      45           No   \n",
       "9237-HQITU  Female              0      No         No       2          Yes   \n",
       "\n",
       "               MultipleLines InternetService OnlineSecurity OnlineBackup  \\\n",
       "customerID                                                                 \n",
       "7590-VHVEG  No phone service             DSL             No          Yes   \n",
       "5575-GNVDE                No             DSL            Yes           No   \n",
       "3668-QPYBK                No             DSL            Yes          Yes   \n",
       "7795-CFOCW  No phone service             DSL            Yes           No   \n",
       "9237-HQITU                No     Fiber optic             No           No   \n",
       "\n",
       "           DeviceProtection TechSupport StreamingTV StreamingMovies  \\\n",
       "customerID                                                            \n",
       "7590-VHVEG               No          No          No              No   \n",
       "5575-GNVDE              Yes          No          No              No   \n",
       "3668-QPYBK               No          No          No              No   \n",
       "7795-CFOCW              Yes         Yes          No              No   \n",
       "9237-HQITU               No          No          No              No   \n",
       "\n",
       "                  Contract PaperlessBilling              PaymentMethod  \\\n",
       "customerID                                                               \n",
       "7590-VHVEG  Month-to-month              Yes           Electronic check   \n",
       "5575-GNVDE        One year               No               Mailed check   \n",
       "3668-QPYBK  Month-to-month              Yes               Mailed check   \n",
       "7795-CFOCW        One year               No  Bank transfer (automatic)   \n",
       "9237-HQITU  Month-to-month              Yes           Electronic check   \n",
       "\n",
       "            MonthlyCharges TotalCharges Churn  \n",
       "customerID                                     \n",
       "7590-VHVEG           29.85        29.85    No  \n",
       "5575-GNVDE           56.95       1889.5    No  \n",
       "3668-QPYBK           53.85       108.15   Yes  \n",
       "7795-CFOCW           42.30      1840.75    No  \n",
       "9237-HQITU           70.70       151.65   Yes  "
      ]
     },
     "execution_count": 2,
     "metadata": {},
     "output_type": "execute_result"
    }
   ],
   "source": [
    "df = pd.read_csv(\"WA_Fn-UseC_-Telco-Customer-Churn.csv\")\n",
    "df = df.set_index(\"customerID\")\n",
    "df.head()"
   ]
  },
  {
   "cell_type": "markdown",
   "id": "79058ee4",
   "metadata": {},
   "source": [
    "# Preprocessing and Data Exploration"
   ]
  },
  {
   "cell_type": "markdown",
   "id": "2633c86b",
   "metadata": {},
   "source": [
    "Observing the Data types of variables in the dataset."
   ]
  },
  {
   "cell_type": "code",
   "execution_count": 3,
   "id": "1c9616f2",
   "metadata": {},
   "outputs": [
    {
     "name": "stdout",
     "output_type": "stream",
     "text": [
      "<class 'pandas.core.frame.DataFrame'>\n",
      "Index: 7043 entries, 7590-VHVEG to 3186-AJIEK\n",
      "Data columns (total 20 columns):\n",
      " #   Column            Non-Null Count  Dtype  \n",
      "---  ------            --------------  -----  \n",
      " 0   gender            7043 non-null   object \n",
      " 1   SeniorCitizen     7043 non-null   int64  \n",
      " 2   Partner           7043 non-null   object \n",
      " 3   Dependents        7043 non-null   object \n",
      " 4   tenure            7043 non-null   int64  \n",
      " 5   PhoneService      7043 non-null   object \n",
      " 6   MultipleLines     7043 non-null   object \n",
      " 7   InternetService   7043 non-null   object \n",
      " 8   OnlineSecurity    7043 non-null   object \n",
      " 9   OnlineBackup      7043 non-null   object \n",
      " 10  DeviceProtection  7043 non-null   object \n",
      " 11  TechSupport       7043 non-null   object \n",
      " 12  StreamingTV       7043 non-null   object \n",
      " 13  StreamingMovies   7043 non-null   object \n",
      " 14  Contract          7043 non-null   object \n",
      " 15  PaperlessBilling  7043 non-null   object \n",
      " 16  PaymentMethod     7043 non-null   object \n",
      " 17  MonthlyCharges    7043 non-null   float64\n",
      " 18  TotalCharges      7043 non-null   object \n",
      " 19  Churn             7043 non-null   object \n",
      "dtypes: float64(1), int64(2), object(17)\n",
      "memory usage: 1.1+ MB\n"
     ]
    }
   ],
   "source": [
    "df.info()"
   ]
  },
  {
   "cell_type": "markdown",
   "id": "9b90ae69",
   "metadata": {},
   "source": [
    "As data explored \"TotalCharges\" field which contains a numeric value should be a float datatype by nature, but in our data set it is defined as an object after investigation we found some spaces in our values which it has been set to a null value."
   ]
  },
  {
   "cell_type": "code",
   "execution_count": 4,
   "id": "975abac8",
   "metadata": {},
   "outputs": [],
   "source": [
    "df[\"TotalCharges\"] = df[\"TotalCharges\"].replace(r\"\\s+\", np.nan, regex=True)\n",
    "df[\"TotalCharges\"] = pd.to_numeric(df[\"TotalCharges\"])"
   ]
  },
  {
   "cell_type": "markdown",
   "id": "1a713473",
   "metadata": {},
   "source": [
    "As expected the \"TotalCharges\" field is converted to float64."
   ]
  },
  {
   "cell_type": "code",
   "execution_count": 5,
   "id": "88c9ef27",
   "metadata": {},
   "outputs": [
    {
     "name": "stdout",
     "output_type": "stream",
     "text": [
      "<class 'pandas.core.frame.DataFrame'>\n",
      "Index: 7043 entries, 7590-VHVEG to 3186-AJIEK\n",
      "Data columns (total 20 columns):\n",
      " #   Column            Non-Null Count  Dtype  \n",
      "---  ------            --------------  -----  \n",
      " 0   gender            7043 non-null   object \n",
      " 1   SeniorCitizen     7043 non-null   int64  \n",
      " 2   Partner           7043 non-null   object \n",
      " 3   Dependents        7043 non-null   object \n",
      " 4   tenure            7043 non-null   int64  \n",
      " 5   PhoneService      7043 non-null   object \n",
      " 6   MultipleLines     7043 non-null   object \n",
      " 7   InternetService   7043 non-null   object \n",
      " 8   OnlineSecurity    7043 non-null   object \n",
      " 9   OnlineBackup      7043 non-null   object \n",
      " 10  DeviceProtection  7043 non-null   object \n",
      " 11  TechSupport       7043 non-null   object \n",
      " 12  StreamingTV       7043 non-null   object \n",
      " 13  StreamingMovies   7043 non-null   object \n",
      " 14  Contract          7043 non-null   object \n",
      " 15  PaperlessBilling  7043 non-null   object \n",
      " 16  PaymentMethod     7043 non-null   object \n",
      " 17  MonthlyCharges    7043 non-null   float64\n",
      " 18  TotalCharges      7032 non-null   float64\n",
      " 19  Churn             7043 non-null   object \n",
      "dtypes: float64(2), int64(2), object(16)\n",
      "memory usage: 1.1+ MB\n"
     ]
    }
   ],
   "source": [
    "df.info()"
   ]
  },
  {
   "cell_type": "markdown",
   "id": "75c8e264",
   "metadata": {},
   "source": [
    "The following lines indicated 11 null values and as it is Ignorable we drop them as part of the data cleaning process."
   ]
  },
  {
   "cell_type": "code",
   "execution_count": 6,
   "id": "cd26c0d2",
   "metadata": {},
   "outputs": [
    {
     "data": {
      "text/plain": [
       "gender               0\n",
       "SeniorCitizen        0\n",
       "Partner              0\n",
       "Dependents           0\n",
       "tenure               0\n",
       "PhoneService         0\n",
       "MultipleLines        0\n",
       "InternetService      0\n",
       "OnlineSecurity       0\n",
       "OnlineBackup         0\n",
       "DeviceProtection     0\n",
       "TechSupport          0\n",
       "StreamingTV          0\n",
       "StreamingMovies      0\n",
       "Contract             0\n",
       "PaperlessBilling     0\n",
       "PaymentMethod        0\n",
       "MonthlyCharges       0\n",
       "TotalCharges        11\n",
       "Churn                0\n",
       "dtype: int64"
      ]
     },
     "execution_count": 6,
     "metadata": {},
     "output_type": "execute_result"
    }
   ],
   "source": [
    "df.isnull().sum()"
   ]
  },
  {
   "cell_type": "code",
   "execution_count": 7,
   "id": "d61e6860",
   "metadata": {},
   "outputs": [],
   "source": [
    "df.dropna(inplace=True)"
   ]
  },
  {
   "cell_type": "markdown",
   "id": "7a9422f2",
   "metadata": {},
   "source": [
    "# Duplicate Checking"
   ]
  },
  {
   "cell_type": "markdown",
   "id": "84fae1e8",
   "metadata": {},
   "source": [
    "The below duplication occurred due to indexing of CustomerID field, naturally, there is no duplication, therefore there is no action required and we will leave it as is."
   ]
  },
  {
   "cell_type": "code",
   "execution_count": 8,
   "id": "07474fd9",
   "metadata": {},
   "outputs": [
    {
     "data": {
      "text/plain": [
       "22"
      ]
     },
     "execution_count": 8,
     "metadata": {},
     "output_type": "execute_result"
    }
   ],
   "source": [
    "df.duplicated().sum()"
   ]
  },
  {
   "cell_type": "code",
   "execution_count": 9,
   "id": "7072b514",
   "metadata": {},
   "outputs": [
    {
     "name": "stdout",
     "output_type": "stream",
     "text": [
      "Duplicate Rows except first occurrence based on all columns are:\n"
     ]
    },
    {
     "data": {
      "text/html": [
       "<div>\n",
       "<style scoped>\n",
       "    .dataframe tbody tr th:only-of-type {\n",
       "        vertical-align: middle;\n",
       "    }\n",
       "\n",
       "    .dataframe tbody tr th {\n",
       "        vertical-align: top;\n",
       "    }\n",
       "\n",
       "    .dataframe thead th {\n",
       "        text-align: right;\n",
       "    }\n",
       "</style>\n",
       "<table border=\"1\" class=\"dataframe\">\n",
       "  <thead>\n",
       "    <tr style=\"text-align: right;\">\n",
       "      <th></th>\n",
       "      <th>gender</th>\n",
       "      <th>SeniorCitizen</th>\n",
       "      <th>Partner</th>\n",
       "      <th>Dependents</th>\n",
       "      <th>tenure</th>\n",
       "      <th>PhoneService</th>\n",
       "      <th>MultipleLines</th>\n",
       "      <th>InternetService</th>\n",
       "      <th>OnlineSecurity</th>\n",
       "      <th>OnlineBackup</th>\n",
       "      <th>DeviceProtection</th>\n",
       "      <th>TechSupport</th>\n",
       "      <th>StreamingTV</th>\n",
       "      <th>StreamingMovies</th>\n",
       "      <th>Contract</th>\n",
       "      <th>PaperlessBilling</th>\n",
       "      <th>PaymentMethod</th>\n",
       "      <th>MonthlyCharges</th>\n",
       "      <th>TotalCharges</th>\n",
       "      <th>Churn</th>\n",
       "    </tr>\n",
       "    <tr>\n",
       "      <th>customerID</th>\n",
       "      <th></th>\n",
       "      <th></th>\n",
       "      <th></th>\n",
       "      <th></th>\n",
       "      <th></th>\n",
       "      <th></th>\n",
       "      <th></th>\n",
       "      <th></th>\n",
       "      <th></th>\n",
       "      <th></th>\n",
       "      <th></th>\n",
       "      <th></th>\n",
       "      <th></th>\n",
       "      <th></th>\n",
       "      <th></th>\n",
       "      <th></th>\n",
       "      <th></th>\n",
       "      <th></th>\n",
       "      <th></th>\n",
       "      <th></th>\n",
       "    </tr>\n",
       "  </thead>\n",
       "  <tbody>\n",
       "    <tr>\n",
       "      <th>9117-SHLZX</th>\n",
       "      <td>Male</td>\n",
       "      <td>0</td>\n",
       "      <td>No</td>\n",
       "      <td>No</td>\n",
       "      <td>1</td>\n",
       "      <td>Yes</td>\n",
       "      <td>No</td>\n",
       "      <td>DSL</td>\n",
       "      <td>No</td>\n",
       "      <td>No</td>\n",
       "      <td>No</td>\n",
       "      <td>No</td>\n",
       "      <td>No</td>\n",
       "      <td>No</td>\n",
       "      <td>Month-to-month</td>\n",
       "      <td>Yes</td>\n",
       "      <td>Mailed check</td>\n",
       "      <td>45.70</td>\n",
       "      <td>45.70</td>\n",
       "      <td>Yes</td>\n",
       "    </tr>\n",
       "    <tr>\n",
       "      <th>1934-SJVJK</th>\n",
       "      <td>Male</td>\n",
       "      <td>0</td>\n",
       "      <td>No</td>\n",
       "      <td>No</td>\n",
       "      <td>1</td>\n",
       "      <td>Yes</td>\n",
       "      <td>No</td>\n",
       "      <td>No</td>\n",
       "      <td>No internet service</td>\n",
       "      <td>No internet service</td>\n",
       "      <td>No internet service</td>\n",
       "      <td>No internet service</td>\n",
       "      <td>No internet service</td>\n",
       "      <td>No internet service</td>\n",
       "      <td>Month-to-month</td>\n",
       "      <td>No</td>\n",
       "      <td>Mailed check</td>\n",
       "      <td>20.15</td>\n",
       "      <td>20.15</td>\n",
       "      <td>Yes</td>\n",
       "    </tr>\n",
       "    <tr>\n",
       "      <th>8605-ITULD</th>\n",
       "      <td>Female</td>\n",
       "      <td>0</td>\n",
       "      <td>No</td>\n",
       "      <td>No</td>\n",
       "      <td>1</td>\n",
       "      <td>Yes</td>\n",
       "      <td>No</td>\n",
       "      <td>No</td>\n",
       "      <td>No internet service</td>\n",
       "      <td>No internet service</td>\n",
       "      <td>No internet service</td>\n",
       "      <td>No internet service</td>\n",
       "      <td>No internet service</td>\n",
       "      <td>No internet service</td>\n",
       "      <td>Month-to-month</td>\n",
       "      <td>No</td>\n",
       "      <td>Mailed check</td>\n",
       "      <td>19.55</td>\n",
       "      <td>19.55</td>\n",
       "      <td>No</td>\n",
       "    </tr>\n",
       "    <tr>\n",
       "      <th>9804-ICWBG</th>\n",
       "      <td>Male</td>\n",
       "      <td>0</td>\n",
       "      <td>No</td>\n",
       "      <td>No</td>\n",
       "      <td>1</td>\n",
       "      <td>Yes</td>\n",
       "      <td>No</td>\n",
       "      <td>Fiber optic</td>\n",
       "      <td>No</td>\n",
       "      <td>No</td>\n",
       "      <td>No</td>\n",
       "      <td>No</td>\n",
       "      <td>No</td>\n",
       "      <td>No</td>\n",
       "      <td>Month-to-month</td>\n",
       "      <td>Yes</td>\n",
       "      <td>Electronic check</td>\n",
       "      <td>69.90</td>\n",
       "      <td>69.90</td>\n",
       "      <td>Yes</td>\n",
       "    </tr>\n",
       "    <tr>\n",
       "      <th>3247-MHJKM</th>\n",
       "      <td>Male</td>\n",
       "      <td>0</td>\n",
       "      <td>No</td>\n",
       "      <td>No</td>\n",
       "      <td>1</td>\n",
       "      <td>Yes</td>\n",
       "      <td>No</td>\n",
       "      <td>No</td>\n",
       "      <td>No internet service</td>\n",
       "      <td>No internet service</td>\n",
       "      <td>No internet service</td>\n",
       "      <td>No internet service</td>\n",
       "      <td>No internet service</td>\n",
       "      <td>No internet service</td>\n",
       "      <td>Month-to-month</td>\n",
       "      <td>No</td>\n",
       "      <td>Mailed check</td>\n",
       "      <td>20.20</td>\n",
       "      <td>20.20</td>\n",
       "      <td>No</td>\n",
       "    </tr>\n",
       "    <tr>\n",
       "      <th>5996-DAOQL</th>\n",
       "      <td>Male</td>\n",
       "      <td>0</td>\n",
       "      <td>No</td>\n",
       "      <td>No</td>\n",
       "      <td>1</td>\n",
       "      <td>Yes</td>\n",
       "      <td>No</td>\n",
       "      <td>No</td>\n",
       "      <td>No internet service</td>\n",
       "      <td>No internet service</td>\n",
       "      <td>No internet service</td>\n",
       "      <td>No internet service</td>\n",
       "      <td>No internet service</td>\n",
       "      <td>No internet service</td>\n",
       "      <td>Month-to-month</td>\n",
       "      <td>Yes</td>\n",
       "      <td>Mailed check</td>\n",
       "      <td>20.45</td>\n",
       "      <td>20.45</td>\n",
       "      <td>No</td>\n",
       "    </tr>\n",
       "    <tr>\n",
       "      <th>2668-TZSPS</th>\n",
       "      <td>Male</td>\n",
       "      <td>0</td>\n",
       "      <td>No</td>\n",
       "      <td>No</td>\n",
       "      <td>1</td>\n",
       "      <td>Yes</td>\n",
       "      <td>No</td>\n",
       "      <td>No</td>\n",
       "      <td>No internet service</td>\n",
       "      <td>No internet service</td>\n",
       "      <td>No internet service</td>\n",
       "      <td>No internet service</td>\n",
       "      <td>No internet service</td>\n",
       "      <td>No internet service</td>\n",
       "      <td>Month-to-month</td>\n",
       "      <td>No</td>\n",
       "      <td>Mailed check</td>\n",
       "      <td>20.45</td>\n",
       "      <td>20.45</td>\n",
       "      <td>No</td>\n",
       "    </tr>\n",
       "    <tr>\n",
       "      <th>2636-ALXXZ</th>\n",
       "      <td>Female</td>\n",
       "      <td>1</td>\n",
       "      <td>No</td>\n",
       "      <td>No</td>\n",
       "      <td>1</td>\n",
       "      <td>Yes</td>\n",
       "      <td>No</td>\n",
       "      <td>Fiber optic</td>\n",
       "      <td>No</td>\n",
       "      <td>No</td>\n",
       "      <td>No</td>\n",
       "      <td>No</td>\n",
       "      <td>No</td>\n",
       "      <td>No</td>\n",
       "      <td>Month-to-month</td>\n",
       "      <td>Yes</td>\n",
       "      <td>Electronic check</td>\n",
       "      <td>69.60</td>\n",
       "      <td>69.60</td>\n",
       "      <td>Yes</td>\n",
       "    </tr>\n",
       "    <tr>\n",
       "      <th>7096-UCLNH</th>\n",
       "      <td>Male</td>\n",
       "      <td>0</td>\n",
       "      <td>No</td>\n",
       "      <td>No</td>\n",
       "      <td>1</td>\n",
       "      <td>Yes</td>\n",
       "      <td>No</td>\n",
       "      <td>No</td>\n",
       "      <td>No internet service</td>\n",
       "      <td>No internet service</td>\n",
       "      <td>No internet service</td>\n",
       "      <td>No internet service</td>\n",
       "      <td>No internet service</td>\n",
       "      <td>No internet service</td>\n",
       "      <td>Month-to-month</td>\n",
       "      <td>No</td>\n",
       "      <td>Mailed check</td>\n",
       "      <td>20.05</td>\n",
       "      <td>20.05</td>\n",
       "      <td>No</td>\n",
       "    </tr>\n",
       "    <tr>\n",
       "      <th>5356-RHIPP</th>\n",
       "      <td>Male</td>\n",
       "      <td>0</td>\n",
       "      <td>No</td>\n",
       "      <td>No</td>\n",
       "      <td>1</td>\n",
       "      <td>Yes</td>\n",
       "      <td>No</td>\n",
       "      <td>No</td>\n",
       "      <td>No internet service</td>\n",
       "      <td>No internet service</td>\n",
       "      <td>No internet service</td>\n",
       "      <td>No internet service</td>\n",
       "      <td>No internet service</td>\n",
       "      <td>No internet service</td>\n",
       "      <td>Month-to-month</td>\n",
       "      <td>Yes</td>\n",
       "      <td>Mailed check</td>\n",
       "      <td>20.20</td>\n",
       "      <td>20.20</td>\n",
       "      <td>Yes</td>\n",
       "    </tr>\n",
       "    <tr>\n",
       "      <th>7434-SHXLS</th>\n",
       "      <td>Female</td>\n",
       "      <td>0</td>\n",
       "      <td>No</td>\n",
       "      <td>No</td>\n",
       "      <td>1</td>\n",
       "      <td>Yes</td>\n",
       "      <td>No</td>\n",
       "      <td>No</td>\n",
       "      <td>No internet service</td>\n",
       "      <td>No internet service</td>\n",
       "      <td>No internet service</td>\n",
       "      <td>No internet service</td>\n",
       "      <td>No internet service</td>\n",
       "      <td>No internet service</td>\n",
       "      <td>Month-to-month</td>\n",
       "      <td>No</td>\n",
       "      <td>Mailed check</td>\n",
       "      <td>20.90</td>\n",
       "      <td>20.90</td>\n",
       "      <td>Yes</td>\n",
       "    </tr>\n",
       "    <tr>\n",
       "      <th>8048-DSDFQ</th>\n",
       "      <td>Male</td>\n",
       "      <td>0</td>\n",
       "      <td>No</td>\n",
       "      <td>No</td>\n",
       "      <td>1</td>\n",
       "      <td>Yes</td>\n",
       "      <td>No</td>\n",
       "      <td>No</td>\n",
       "      <td>No internet service</td>\n",
       "      <td>No internet service</td>\n",
       "      <td>No internet service</td>\n",
       "      <td>No internet service</td>\n",
       "      <td>No internet service</td>\n",
       "      <td>No internet service</td>\n",
       "      <td>Month-to-month</td>\n",
       "      <td>No</td>\n",
       "      <td>Mailed check</td>\n",
       "      <td>20.20</td>\n",
       "      <td>20.20</td>\n",
       "      <td>No</td>\n",
       "    </tr>\n",
       "    <tr>\n",
       "      <th>8749-CLJXC</th>\n",
       "      <td>Male</td>\n",
       "      <td>0</td>\n",
       "      <td>No</td>\n",
       "      <td>No</td>\n",
       "      <td>1</td>\n",
       "      <td>Yes</td>\n",
       "      <td>No</td>\n",
       "      <td>No</td>\n",
       "      <td>No internet service</td>\n",
       "      <td>No internet service</td>\n",
       "      <td>No internet service</td>\n",
       "      <td>No internet service</td>\n",
       "      <td>No internet service</td>\n",
       "      <td>No internet service</td>\n",
       "      <td>Month-to-month</td>\n",
       "      <td>No</td>\n",
       "      <td>Mailed check</td>\n",
       "      <td>20.05</td>\n",
       "      <td>20.05</td>\n",
       "      <td>No</td>\n",
       "    </tr>\n",
       "    <tr>\n",
       "      <th>9985-MWVIX</th>\n",
       "      <td>Female</td>\n",
       "      <td>0</td>\n",
       "      <td>No</td>\n",
       "      <td>No</td>\n",
       "      <td>1</td>\n",
       "      <td>Yes</td>\n",
       "      <td>No</td>\n",
       "      <td>Fiber optic</td>\n",
       "      <td>No</td>\n",
       "      <td>No</td>\n",
       "      <td>No</td>\n",
       "      <td>No</td>\n",
       "      <td>No</td>\n",
       "      <td>No</td>\n",
       "      <td>Month-to-month</td>\n",
       "      <td>Yes</td>\n",
       "      <td>Mailed check</td>\n",
       "      <td>70.15</td>\n",
       "      <td>70.15</td>\n",
       "      <td>Yes</td>\n",
       "    </tr>\n",
       "    <tr>\n",
       "      <th>0328-GRPMV</th>\n",
       "      <td>Female</td>\n",
       "      <td>0</td>\n",
       "      <td>No</td>\n",
       "      <td>No</td>\n",
       "      <td>1</td>\n",
       "      <td>Yes</td>\n",
       "      <td>No</td>\n",
       "      <td>Fiber optic</td>\n",
       "      <td>No</td>\n",
       "      <td>No</td>\n",
       "      <td>No</td>\n",
       "      <td>No</td>\n",
       "      <td>No</td>\n",
       "      <td>No</td>\n",
       "      <td>Month-to-month</td>\n",
       "      <td>Yes</td>\n",
       "      <td>Electronic check</td>\n",
       "      <td>70.10</td>\n",
       "      <td>70.10</td>\n",
       "      <td>Yes</td>\n",
       "    </tr>\n",
       "    <tr>\n",
       "      <th>2676-ISHSF</th>\n",
       "      <td>Male</td>\n",
       "      <td>0</td>\n",
       "      <td>No</td>\n",
       "      <td>No</td>\n",
       "      <td>1</td>\n",
       "      <td>Yes</td>\n",
       "      <td>No</td>\n",
       "      <td>No</td>\n",
       "      <td>No internet service</td>\n",
       "      <td>No internet service</td>\n",
       "      <td>No internet service</td>\n",
       "      <td>No internet service</td>\n",
       "      <td>No internet service</td>\n",
       "      <td>No internet service</td>\n",
       "      <td>Month-to-month</td>\n",
       "      <td>No</td>\n",
       "      <td>Mailed check</td>\n",
       "      <td>20.30</td>\n",
       "      <td>20.30</td>\n",
       "      <td>No</td>\n",
       "    </tr>\n",
       "    <tr>\n",
       "      <th>1963-SVUCV</th>\n",
       "      <td>Male</td>\n",
       "      <td>0</td>\n",
       "      <td>No</td>\n",
       "      <td>No</td>\n",
       "      <td>1</td>\n",
       "      <td>Yes</td>\n",
       "      <td>No</td>\n",
       "      <td>DSL</td>\n",
       "      <td>No</td>\n",
       "      <td>No</td>\n",
       "      <td>No</td>\n",
       "      <td>No</td>\n",
       "      <td>No</td>\n",
       "      <td>No</td>\n",
       "      <td>Month-to-month</td>\n",
       "      <td>No</td>\n",
       "      <td>Electronic check</td>\n",
       "      <td>45.30</td>\n",
       "      <td>45.30</td>\n",
       "      <td>Yes</td>\n",
       "    </tr>\n",
       "    <tr>\n",
       "      <th>1000-AJSLD</th>\n",
       "      <td>Male</td>\n",
       "      <td>0</td>\n",
       "      <td>No</td>\n",
       "      <td>No</td>\n",
       "      <td>1</td>\n",
       "      <td>Yes</td>\n",
       "      <td>No</td>\n",
       "      <td>No</td>\n",
       "      <td>No internet service</td>\n",
       "      <td>No internet service</td>\n",
       "      <td>No internet service</td>\n",
       "      <td>No internet service</td>\n",
       "      <td>No internet service</td>\n",
       "      <td>No internet service</td>\n",
       "      <td>Month-to-month</td>\n",
       "      <td>Yes</td>\n",
       "      <td>Mailed check</td>\n",
       "      <td>20.10</td>\n",
       "      <td>20.10</td>\n",
       "      <td>Yes</td>\n",
       "    </tr>\n",
       "    <tr>\n",
       "      <th>7878-RTCZG</th>\n",
       "      <td>Female</td>\n",
       "      <td>0</td>\n",
       "      <td>No</td>\n",
       "      <td>No</td>\n",
       "      <td>1</td>\n",
       "      <td>Yes</td>\n",
       "      <td>No</td>\n",
       "      <td>No</td>\n",
       "      <td>No internet service</td>\n",
       "      <td>No internet service</td>\n",
       "      <td>No internet service</td>\n",
       "      <td>No internet service</td>\n",
       "      <td>No internet service</td>\n",
       "      <td>No internet service</td>\n",
       "      <td>Month-to-month</td>\n",
       "      <td>No</td>\n",
       "      <td>Mailed check</td>\n",
       "      <td>19.90</td>\n",
       "      <td>19.90</td>\n",
       "      <td>No</td>\n",
       "    </tr>\n",
       "    <tr>\n",
       "      <th>7660-HDPJV</th>\n",
       "      <td>Female</td>\n",
       "      <td>0</td>\n",
       "      <td>No</td>\n",
       "      <td>No</td>\n",
       "      <td>1</td>\n",
       "      <td>Yes</td>\n",
       "      <td>No</td>\n",
       "      <td>Fiber optic</td>\n",
       "      <td>No</td>\n",
       "      <td>No</td>\n",
       "      <td>No</td>\n",
       "      <td>No</td>\n",
       "      <td>No</td>\n",
       "      <td>No</td>\n",
       "      <td>Month-to-month</td>\n",
       "      <td>Yes</td>\n",
       "      <td>Electronic check</td>\n",
       "      <td>69.20</td>\n",
       "      <td>69.20</td>\n",
       "      <td>Yes</td>\n",
       "    </tr>\n",
       "    <tr>\n",
       "      <th>0970-QXPXW</th>\n",
       "      <td>Female</td>\n",
       "      <td>0</td>\n",
       "      <td>No</td>\n",
       "      <td>No</td>\n",
       "      <td>1</td>\n",
       "      <td>Yes</td>\n",
       "      <td>No</td>\n",
       "      <td>No</td>\n",
       "      <td>No internet service</td>\n",
       "      <td>No internet service</td>\n",
       "      <td>No internet service</td>\n",
       "      <td>No internet service</td>\n",
       "      <td>No internet service</td>\n",
       "      <td>No internet service</td>\n",
       "      <td>Month-to-month</td>\n",
       "      <td>No</td>\n",
       "      <td>Mailed check</td>\n",
       "      <td>19.65</td>\n",
       "      <td>19.65</td>\n",
       "      <td>No</td>\n",
       "    </tr>\n",
       "    <tr>\n",
       "      <th>6457-GIRWB</th>\n",
       "      <td>Male</td>\n",
       "      <td>0</td>\n",
       "      <td>No</td>\n",
       "      <td>No</td>\n",
       "      <td>1</td>\n",
       "      <td>Yes</td>\n",
       "      <td>No</td>\n",
       "      <td>Fiber optic</td>\n",
       "      <td>No</td>\n",
       "      <td>No</td>\n",
       "      <td>No</td>\n",
       "      <td>No</td>\n",
       "      <td>No</td>\n",
       "      <td>No</td>\n",
       "      <td>Month-to-month</td>\n",
       "      <td>Yes</td>\n",
       "      <td>Electronic check</td>\n",
       "      <td>69.35</td>\n",
       "      <td>69.35</td>\n",
       "      <td>Yes</td>\n",
       "    </tr>\n",
       "  </tbody>\n",
       "</table>\n",
       "</div>"
      ],
      "text/plain": [
       "            gender  SeniorCitizen Partner Dependents  tenure PhoneService  \\\n",
       "customerID                                                                  \n",
       "9117-SHLZX    Male              0      No         No       1          Yes   \n",
       "1934-SJVJK    Male              0      No         No       1          Yes   \n",
       "8605-ITULD  Female              0      No         No       1          Yes   \n",
       "9804-ICWBG    Male              0      No         No       1          Yes   \n",
       "3247-MHJKM    Male              0      No         No       1          Yes   \n",
       "5996-DAOQL    Male              0      No         No       1          Yes   \n",
       "2668-TZSPS    Male              0      No         No       1          Yes   \n",
       "2636-ALXXZ  Female              1      No         No       1          Yes   \n",
       "7096-UCLNH    Male              0      No         No       1          Yes   \n",
       "5356-RHIPP    Male              0      No         No       1          Yes   \n",
       "7434-SHXLS  Female              0      No         No       1          Yes   \n",
       "8048-DSDFQ    Male              0      No         No       1          Yes   \n",
       "8749-CLJXC    Male              0      No         No       1          Yes   \n",
       "9985-MWVIX  Female              0      No         No       1          Yes   \n",
       "0328-GRPMV  Female              0      No         No       1          Yes   \n",
       "2676-ISHSF    Male              0      No         No       1          Yes   \n",
       "1963-SVUCV    Male              0      No         No       1          Yes   \n",
       "1000-AJSLD    Male              0      No         No       1          Yes   \n",
       "7878-RTCZG  Female              0      No         No       1          Yes   \n",
       "7660-HDPJV  Female              0      No         No       1          Yes   \n",
       "0970-QXPXW  Female              0      No         No       1          Yes   \n",
       "6457-GIRWB    Male              0      No         No       1          Yes   \n",
       "\n",
       "           MultipleLines InternetService       OnlineSecurity  \\\n",
       "customerID                                                      \n",
       "9117-SHLZX            No             DSL                   No   \n",
       "1934-SJVJK            No              No  No internet service   \n",
       "8605-ITULD            No              No  No internet service   \n",
       "9804-ICWBG            No     Fiber optic                   No   \n",
       "3247-MHJKM            No              No  No internet service   \n",
       "5996-DAOQL            No              No  No internet service   \n",
       "2668-TZSPS            No              No  No internet service   \n",
       "2636-ALXXZ            No     Fiber optic                   No   \n",
       "7096-UCLNH            No              No  No internet service   \n",
       "5356-RHIPP            No              No  No internet service   \n",
       "7434-SHXLS            No              No  No internet service   \n",
       "8048-DSDFQ            No              No  No internet service   \n",
       "8749-CLJXC            No              No  No internet service   \n",
       "9985-MWVIX            No     Fiber optic                   No   \n",
       "0328-GRPMV            No     Fiber optic                   No   \n",
       "2676-ISHSF            No              No  No internet service   \n",
       "1963-SVUCV            No             DSL                   No   \n",
       "1000-AJSLD            No              No  No internet service   \n",
       "7878-RTCZG            No              No  No internet service   \n",
       "7660-HDPJV            No     Fiber optic                   No   \n",
       "0970-QXPXW            No              No  No internet service   \n",
       "6457-GIRWB            No     Fiber optic                   No   \n",
       "\n",
       "                   OnlineBackup     DeviceProtection          TechSupport  \\\n",
       "customerID                                                                  \n",
       "9117-SHLZX                   No                   No                   No   \n",
       "1934-SJVJK  No internet service  No internet service  No internet service   \n",
       "8605-ITULD  No internet service  No internet service  No internet service   \n",
       "9804-ICWBG                   No                   No                   No   \n",
       "3247-MHJKM  No internet service  No internet service  No internet service   \n",
       "5996-DAOQL  No internet service  No internet service  No internet service   \n",
       "2668-TZSPS  No internet service  No internet service  No internet service   \n",
       "2636-ALXXZ                   No                   No                   No   \n",
       "7096-UCLNH  No internet service  No internet service  No internet service   \n",
       "5356-RHIPP  No internet service  No internet service  No internet service   \n",
       "7434-SHXLS  No internet service  No internet service  No internet service   \n",
       "8048-DSDFQ  No internet service  No internet service  No internet service   \n",
       "8749-CLJXC  No internet service  No internet service  No internet service   \n",
       "9985-MWVIX                   No                   No                   No   \n",
       "0328-GRPMV                   No                   No                   No   \n",
       "2676-ISHSF  No internet service  No internet service  No internet service   \n",
       "1963-SVUCV                   No                   No                   No   \n",
       "1000-AJSLD  No internet service  No internet service  No internet service   \n",
       "7878-RTCZG  No internet service  No internet service  No internet service   \n",
       "7660-HDPJV                   No                   No                   No   \n",
       "0970-QXPXW  No internet service  No internet service  No internet service   \n",
       "6457-GIRWB                   No                   No                   No   \n",
       "\n",
       "                    StreamingTV      StreamingMovies        Contract  \\\n",
       "customerID                                                             \n",
       "9117-SHLZX                   No                   No  Month-to-month   \n",
       "1934-SJVJK  No internet service  No internet service  Month-to-month   \n",
       "8605-ITULD  No internet service  No internet service  Month-to-month   \n",
       "9804-ICWBG                   No                   No  Month-to-month   \n",
       "3247-MHJKM  No internet service  No internet service  Month-to-month   \n",
       "5996-DAOQL  No internet service  No internet service  Month-to-month   \n",
       "2668-TZSPS  No internet service  No internet service  Month-to-month   \n",
       "2636-ALXXZ                   No                   No  Month-to-month   \n",
       "7096-UCLNH  No internet service  No internet service  Month-to-month   \n",
       "5356-RHIPP  No internet service  No internet service  Month-to-month   \n",
       "7434-SHXLS  No internet service  No internet service  Month-to-month   \n",
       "8048-DSDFQ  No internet service  No internet service  Month-to-month   \n",
       "8749-CLJXC  No internet service  No internet service  Month-to-month   \n",
       "9985-MWVIX                   No                   No  Month-to-month   \n",
       "0328-GRPMV                   No                   No  Month-to-month   \n",
       "2676-ISHSF  No internet service  No internet service  Month-to-month   \n",
       "1963-SVUCV                   No                   No  Month-to-month   \n",
       "1000-AJSLD  No internet service  No internet service  Month-to-month   \n",
       "7878-RTCZG  No internet service  No internet service  Month-to-month   \n",
       "7660-HDPJV                   No                   No  Month-to-month   \n",
       "0970-QXPXW  No internet service  No internet service  Month-to-month   \n",
       "6457-GIRWB                   No                   No  Month-to-month   \n",
       "\n",
       "           PaperlessBilling     PaymentMethod  MonthlyCharges  TotalCharges  \\\n",
       "customerID                                                                    \n",
       "9117-SHLZX              Yes      Mailed check           45.70         45.70   \n",
       "1934-SJVJK               No      Mailed check           20.15         20.15   \n",
       "8605-ITULD               No      Mailed check           19.55         19.55   \n",
       "9804-ICWBG              Yes  Electronic check           69.90         69.90   \n",
       "3247-MHJKM               No      Mailed check           20.20         20.20   \n",
       "5996-DAOQL              Yes      Mailed check           20.45         20.45   \n",
       "2668-TZSPS               No      Mailed check           20.45         20.45   \n",
       "2636-ALXXZ              Yes  Electronic check           69.60         69.60   \n",
       "7096-UCLNH               No      Mailed check           20.05         20.05   \n",
       "5356-RHIPP              Yes      Mailed check           20.20         20.20   \n",
       "7434-SHXLS               No      Mailed check           20.90         20.90   \n",
       "8048-DSDFQ               No      Mailed check           20.20         20.20   \n",
       "8749-CLJXC               No      Mailed check           20.05         20.05   \n",
       "9985-MWVIX              Yes      Mailed check           70.15         70.15   \n",
       "0328-GRPMV              Yes  Electronic check           70.10         70.10   \n",
       "2676-ISHSF               No      Mailed check           20.30         20.30   \n",
       "1963-SVUCV               No  Electronic check           45.30         45.30   \n",
       "1000-AJSLD              Yes      Mailed check           20.10         20.10   \n",
       "7878-RTCZG               No      Mailed check           19.90         19.90   \n",
       "7660-HDPJV              Yes  Electronic check           69.20         69.20   \n",
       "0970-QXPXW               No      Mailed check           19.65         19.65   \n",
       "6457-GIRWB              Yes  Electronic check           69.35         69.35   \n",
       "\n",
       "           Churn  \n",
       "customerID        \n",
       "9117-SHLZX   Yes  \n",
       "1934-SJVJK   Yes  \n",
       "8605-ITULD    No  \n",
       "9804-ICWBG   Yes  \n",
       "3247-MHJKM    No  \n",
       "5996-DAOQL    No  \n",
       "2668-TZSPS    No  \n",
       "2636-ALXXZ   Yes  \n",
       "7096-UCLNH    No  \n",
       "5356-RHIPP   Yes  \n",
       "7434-SHXLS   Yes  \n",
       "8048-DSDFQ    No  \n",
       "8749-CLJXC    No  \n",
       "9985-MWVIX   Yes  \n",
       "0328-GRPMV   Yes  \n",
       "2676-ISHSF    No  \n",
       "1963-SVUCV   Yes  \n",
       "1000-AJSLD   Yes  \n",
       "7878-RTCZG    No  \n",
       "7660-HDPJV   Yes  \n",
       "0970-QXPXW    No  \n",
       "6457-GIRWB   Yes  "
      ]
     },
     "execution_count": 9,
     "metadata": {},
     "output_type": "execute_result"
    }
   ],
   "source": [
    "duplicate = df[df.duplicated()]\n",
    "print(\"Duplicate Rows except first occurrence based on all columns are:\")\n",
    "duplicate"
   ]
  },
  {
   "cell_type": "markdown",
   "id": "d34e1863",
   "metadata": {},
   "source": [
    "# Missing Values"
   ]
  },
  {
   "cell_type": "markdown",
   "id": "2b30a13f",
   "metadata": {},
   "source": [
    "Presentation of Null Values, As it is sorted as Descending there are no missing values; the first 10 rows are selected."
   ]
  },
  {
   "cell_type": "code",
   "execution_count": 10,
   "id": "98abbac3",
   "metadata": {},
   "outputs": [
    {
     "data": {
      "text/html": [
       "<div>\n",
       "<style scoped>\n",
       "    .dataframe tbody tr th:only-of-type {\n",
       "        vertical-align: middle;\n",
       "    }\n",
       "\n",
       "    .dataframe tbody tr th {\n",
       "        vertical-align: top;\n",
       "    }\n",
       "\n",
       "    .dataframe thead th {\n",
       "        text-align: right;\n",
       "    }\n",
       "</style>\n",
       "<table border=\"1\" class=\"dataframe\">\n",
       "  <thead>\n",
       "    <tr style=\"text-align: right;\">\n",
       "      <th></th>\n",
       "      <th>Null Values (Count)</th>\n",
       "      <th>Percentage (%)</th>\n",
       "    </tr>\n",
       "  </thead>\n",
       "  <tbody>\n",
       "    <tr>\n",
       "      <th>gender</th>\n",
       "      <td>0</td>\n",
       "      <td>0.0</td>\n",
       "    </tr>\n",
       "    <tr>\n",
       "      <th>SeniorCitizen</th>\n",
       "      <td>0</td>\n",
       "      <td>0.0</td>\n",
       "    </tr>\n",
       "    <tr>\n",
       "      <th>TotalCharges</th>\n",
       "      <td>0</td>\n",
       "      <td>0.0</td>\n",
       "    </tr>\n",
       "    <tr>\n",
       "      <th>MonthlyCharges</th>\n",
       "      <td>0</td>\n",
       "      <td>0.0</td>\n",
       "    </tr>\n",
       "    <tr>\n",
       "      <th>PaymentMethod</th>\n",
       "      <td>0</td>\n",
       "      <td>0.0</td>\n",
       "    </tr>\n",
       "    <tr>\n",
       "      <th>PaperlessBilling</th>\n",
       "      <td>0</td>\n",
       "      <td>0.0</td>\n",
       "    </tr>\n",
       "    <tr>\n",
       "      <th>Contract</th>\n",
       "      <td>0</td>\n",
       "      <td>0.0</td>\n",
       "    </tr>\n",
       "    <tr>\n",
       "      <th>StreamingMovies</th>\n",
       "      <td>0</td>\n",
       "      <td>0.0</td>\n",
       "    </tr>\n",
       "    <tr>\n",
       "      <th>StreamingTV</th>\n",
       "      <td>0</td>\n",
       "      <td>0.0</td>\n",
       "    </tr>\n",
       "    <tr>\n",
       "      <th>TechSupport</th>\n",
       "      <td>0</td>\n",
       "      <td>0.0</td>\n",
       "    </tr>\n",
       "  </tbody>\n",
       "</table>\n",
       "</div>"
      ],
      "text/plain": [
       "                  Null Values (Count)  Percentage (%)\n",
       "gender                              0             0.0\n",
       "SeniorCitizen                       0             0.0\n",
       "TotalCharges                        0             0.0\n",
       "MonthlyCharges                      0             0.0\n",
       "PaymentMethod                       0             0.0\n",
       "PaperlessBilling                    0             0.0\n",
       "Contract                            0             0.0\n",
       "StreamingMovies                     0             0.0\n",
       "StreamingTV                         0             0.0\n",
       "TechSupport                         0             0.0"
      ]
     },
     "execution_count": 10,
     "metadata": {},
     "output_type": "execute_result"
    }
   ],
   "source": [
    "miss = df.isnull().sum().sort_values(ascending=False).head(10)\n",
    "miss_per = round(miss / len(df) * 100, 2)\n",
    "pd.DataFrame({\"Null Values (Count)\": miss, \"Percentage (%)\": miss_per.values})"
   ]
  },
  {
   "cell_type": "markdown",
   "id": "7e1e03ba",
   "metadata": {},
   "source": [
    "# Data Exploration (Charts)"
   ]
  },
  {
   "cell_type": "markdown",
   "id": "1a3b90e1",
   "metadata": {},
   "source": [
    "To get some insights from the above dataset, some charts and graphs are added:\n",
    "\n",
    "All graphs show the total diversity and correlation of most features with our target label \"Churn\".\n",
    "\n",
    "as an example distribution of Male and Female customers in churn is almost the same.\n",
    "\n",
    "but senior citizens (those above 65 years old) significantly are low in the margin but in relation to churn rate is high.\n",
    "\n",
    "for each plot, we have a similar analysis and to avoid making long explanations we will keep going with the rest of the activities for the ML pipeline.\n",
    "\n",
    "* To avoid repeating in coding, we get the column headers as text and put them in a for loop to generate for each column similar plot."
   ]
  },
  {
   "cell_type": "code",
   "execution_count": 11,
   "id": "35447953",
   "metadata": {},
   "outputs": [
    {
     "data": {
      "image/png": "[encoded data removed]",
      "text/plain": [
       "<Figure size 432x288 with 1 Axes>"
      ]
     },
     "metadata": {
      "needs_background": "light"
     },
     "output_type": "display_data"
    },
    {
     "name": "stdout",
     "output_type": "stream",
     "text": [
      "\n",
      "\n"
     ]
    },
    {
     "data": {
      "image/png": "[encoded data removed]",
      "text/plain": [
       "<Figure size 432x288 with 1 Axes>"
      ]
     },
     "metadata": {
      "needs_background": "light"
     },
     "output_type": "display_data"
    },
    {
     "name": "stdout",
     "output_type": "stream",
     "text": [
      "\n",
      "\n"
     ]
    },
    {
     "data": {
      "image/png": "[encoded data removed]",
      "text/plain": [
       "<Figure size 432x288 with 1 Axes>"
      ]
     },
     "metadata": {
      "needs_background": "light"
     },
     "output_type": "display_data"
    },
    {
     "name": "stdout",
     "output_type": "stream",
     "text": [
      "\n",
      "\n"
     ]
    },
    {
     "data": {
      "image/png": "[encoded data removed]",
      "text/plain": [
       "<Figure size 432x288 with 1 Axes>"
      ]
     },
     "metadata": {
      "needs_background": "light"
     },
     "output_type": "display_data"
    },
    {
     "name": "stdout",
     "output_type": "stream",
     "text": [
      "\n",
      "\n"
     ]
    },
    {
     "data": {
      "image/png": "[encoded data removed]",
      "text/plain": [
       "<Figure size 432x288 with 1 Axes>"
      ]
     },
     "metadata": {
      "needs_background": "light"
     },
     "output_type": "display_data"
    },
    {
     "name": "stdout",
     "output_type": "stream",
     "text": [
      "\n",
      "\n"
     ]
    },
    {
     "data": {
      "image/png": "[encoded data removed]",
      "text/plain": [
       "<Figure size 432x288 with 1 Axes>"
      ]
     },
     "metadata": {
      "needs_background": "light"
     },
     "output_type": "display_data"
    },
    {
     "name": "stdout",
     "output_type": "stream",
     "text": [
      "\n",
      "\n"
     ]
    },
    {
     "data": {
      "image/png": "[encoded data removed]",
      "text/plain": [
       "<Figure size 432x288 with 1 Axes>"
      ]
     },
     "metadata": {
      "needs_background": "light"
     },
     "output_type": "display_data"
    },
    {
     "name": "stdout",
     "output_type": "stream",
     "text": [
      "\n",
      "\n"
     ]
    },
    {
     "data": {
      "image/png": "[encoded data removed]",
      "text/plain": [
       "<Figure size 432x288 with 1 Axes>"
      ]
     },
     "metadata": {
      "needs_background": "light"
     },
     "output_type": "display_data"
    },
    {
     "name": "stdout",
     "output_type": "stream",
     "text": [
      "\n",
      "\n"
     ]
    },
    {
     "data": {
      "image/png": "[encoded data removed]",
      "text/plain": [
       "<Figure size 432x288 with 1 Axes>"
      ]
     },
     "metadata": {
      "needs_background": "light"
     },
     "output_type": "display_data"
    },
    {
     "name": "stdout",
     "output_type": "stream",
     "text": [
      "\n",
      "\n"
     ]
    },
    {
     "data": {
      "image/png": "[encoded data removed]",
      "text/plain": [
       "<Figure size 432x288 with 1 Axes>"
      ]
     },
     "metadata": {
      "needs_background": "light"
     },
     "output_type": "display_data"
    },
    {
     "name": "stdout",
     "output_type": "stream",
     "text": [
      "\n",
      "\n"
     ]
    },
    {
     "data": {
      "image/png": "[encoded data removed]",
      "text/plain": [
       "<Figure size 432x288 with 1 Axes>"
      ]
     },
     "metadata": {
      "needs_background": "light"
     },
     "output_type": "display_data"
    },
    {
     "name": "stdout",
     "output_type": "stream",
     "text": [
      "\n",
      "\n"
     ]
    },
    {
     "data": {
      "image/png": "[encoded data removed]",
      "text/plain": [
       "<Figure size 432x288 with 1 Axes>"
      ]
     },
     "metadata": {
      "needs_background": "light"
     },
     "output_type": "display_data"
    },
    {
     "name": "stdout",
     "output_type": "stream",
     "text": [
      "\n",
      "\n"
     ]
    },
    {
     "data": {
      "image/png": "[encoded data removed]",
      "text/plain": [
       "<Figure size 432x288 with 1 Axes>"
      ]
     },
     "metadata": {
      "needs_background": "light"
     },
     "output_type": "display_data"
    },
    {
     "name": "stdout",
     "output_type": "stream",
     "text": [
      "\n",
      "\n"
     ]
    },
    {
     "data": {
      "image/png": "[encoded data removed]",
      "text/plain": [
       "<Figure size 432x288 with 1 Axes>"
      ]
     },
     "metadata": {
      "needs_background": "light"
     },
     "output_type": "display_data"
    },
    {
     "name": "stdout",
     "output_type": "stream",
     "text": [
      "\n",
      "\n"
     ]
    },
    {
     "data": {
      "image/png": "[encoded data removed]",
      "text/plain": [
       "<Figure size 432x288 with 1 Axes>"
      ]
     },
     "metadata": {
      "needs_background": "light"
     },
     "output_type": "display_data"
    },
    {
     "name": "stdout",
     "output_type": "stream",
     "text": [
      "\n",
      "\n"
     ]
    },
    {
     "data": {
      "image/png": "[encoded data removed]",
      "text/plain": [
       "<Figure size 432x288 with 1 Axes>"
      ]
     },
     "metadata": {
      "needs_background": "light"
     },
     "output_type": "display_data"
    },
    {
     "name": "stdout",
     "output_type": "stream",
     "text": [
      "\n",
      "\n"
     ]
    }
   ],
   "source": [
    "df_column = \"\"\" \n",
    "    gender SeniorCitizen Partner Dependents  PhoneService\n",
    "    MultipleLines InternetService OnlineSecurity OnlineBackup \n",
    "    DeviceProtection TechSupport StreamingTV StreamingMovies \n",
    "    Contract PaperlessBilling PaymentMethod \n",
    "\"\"\"\n",
    "\n",
    "plt_drw = df_column.split()\n",
    "for word in plt_drw:\n",
    "    sns.countplot(x=word, hue=\"Churn\", data=df)\n",
    "    plt1 = plt.xticks(rotation=90)\n",
    "    plt1 = plt.title(word)\n",
    "    plt.show()\n",
    "    print(\"\\n\")\n"
   ]
  },
  {
   "cell_type": "markdown",
   "id": "24e7c9f0",
   "metadata": {},
   "source": [
    "# Spliting Dataset to Test and Train"
   ]
  },
  {
   "cell_type": "markdown",
   "id": "50b26d1e",
   "metadata": {},
   "source": [
    "Main dataset is splitted to Train and Test at the beggining with ratio of 30/70 before Feature Engineering"
   ]
  },
  {
   "cell_type": "code",
   "execution_count": 12,
   "id": "cc35c4c6",
   "metadata": {},
   "outputs": [
    {
     "name": "stdout",
     "output_type": "stream",
     "text": [
      "Train Dataset:4,922\n",
      "Test Dataset: 2,110\n"
     ]
    }
   ],
   "source": [
    "training_data, testing_data = sklearn.model_selection.train_test_split(\n",
    "    df, test_size=0.30, random_state=42\n",
    ")\n",
    "print(f\"Train Dataset:{training_data.shape[0]:,}\")\n",
    "print(f\"Test Dataset: {testing_data.shape[0]:,}\")"
   ]
  },
  {
   "cell_type": "code",
   "execution_count": 13,
   "id": "8217e8ef",
   "metadata": {},
   "outputs": [
    {
     "data": {
      "text/html": [
       "<div>\n",
       "<style scoped>\n",
       "    .dataframe tbody tr th:only-of-type {\n",
       "        vertical-align: middle;\n",
       "    }\n",
       "\n",
       "    .dataframe tbody tr th {\n",
       "        vertical-align: top;\n",
       "    }\n",
       "\n",
       "    .dataframe thead th {\n",
       "        text-align: right;\n",
       "    }\n",
       "</style>\n",
       "<table border=\"1\" class=\"dataframe\">\n",
       "  <thead>\n",
       "    <tr style=\"text-align: right;\">\n",
       "      <th></th>\n",
       "      <th>gender</th>\n",
       "      <th>SeniorCitizen</th>\n",
       "      <th>Partner</th>\n",
       "      <th>Dependents</th>\n",
       "      <th>tenure</th>\n",
       "      <th>PhoneService</th>\n",
       "      <th>MultipleLines</th>\n",
       "      <th>InternetService</th>\n",
       "      <th>OnlineSecurity</th>\n",
       "      <th>OnlineBackup</th>\n",
       "      <th>DeviceProtection</th>\n",
       "      <th>TechSupport</th>\n",
       "      <th>StreamingTV</th>\n",
       "      <th>StreamingMovies</th>\n",
       "      <th>Contract</th>\n",
       "      <th>PaperlessBilling</th>\n",
       "      <th>PaymentMethod</th>\n",
       "      <th>MonthlyCharges</th>\n",
       "      <th>TotalCharges</th>\n",
       "      <th>Churn</th>\n",
       "    </tr>\n",
       "    <tr>\n",
       "      <th>customerID</th>\n",
       "      <th></th>\n",
       "      <th></th>\n",
       "      <th></th>\n",
       "      <th></th>\n",
       "      <th></th>\n",
       "      <th></th>\n",
       "      <th></th>\n",
       "      <th></th>\n",
       "      <th></th>\n",
       "      <th></th>\n",
       "      <th></th>\n",
       "      <th></th>\n",
       "      <th></th>\n",
       "      <th></th>\n",
       "      <th></th>\n",
       "      <th></th>\n",
       "      <th></th>\n",
       "      <th></th>\n",
       "      <th></th>\n",
       "      <th></th>\n",
       "    </tr>\n",
       "  </thead>\n",
       "  <tbody>\n",
       "    <tr>\n",
       "      <th>5154-VEKBL</th>\n",
       "      <td>Female</td>\n",
       "      <td>0</td>\n",
       "      <td>No</td>\n",
       "      <td>No</td>\n",
       "      <td>9</td>\n",
       "      <td>No</td>\n",
       "      <td>No phone service</td>\n",
       "      <td>DSL</td>\n",
       "      <td>Yes</td>\n",
       "      <td>No</td>\n",
       "      <td>Yes</td>\n",
       "      <td>Yes</td>\n",
       "      <td>Yes</td>\n",
       "      <td>Yes</td>\n",
       "      <td>Month-to-month</td>\n",
       "      <td>No</td>\n",
       "      <td>Mailed check</td>\n",
       "      <td>58.50</td>\n",
       "      <td>539.85</td>\n",
       "      <td>Yes</td>\n",
       "    </tr>\n",
       "    <tr>\n",
       "      <th>9052-DHNKM</th>\n",
       "      <td>Male</td>\n",
       "      <td>0</td>\n",
       "      <td>No</td>\n",
       "      <td>No</td>\n",
       "      <td>26</td>\n",
       "      <td>Yes</td>\n",
       "      <td>Yes</td>\n",
       "      <td>DSL</td>\n",
       "      <td>Yes</td>\n",
       "      <td>Yes</td>\n",
       "      <td>No</td>\n",
       "      <td>No</td>\n",
       "      <td>No</td>\n",
       "      <td>No</td>\n",
       "      <td>One year</td>\n",
       "      <td>No</td>\n",
       "      <td>Electronic check</td>\n",
       "      <td>61.55</td>\n",
       "      <td>1581.95</td>\n",
       "      <td>No</td>\n",
       "    </tr>\n",
       "    <tr>\n",
       "      <th>2988-PLAHS</th>\n",
       "      <td>Female</td>\n",
       "      <td>0</td>\n",
       "      <td>No</td>\n",
       "      <td>No</td>\n",
       "      <td>3</td>\n",
       "      <td>Yes</td>\n",
       "      <td>No</td>\n",
       "      <td>DSL</td>\n",
       "      <td>No</td>\n",
       "      <td>No</td>\n",
       "      <td>Yes</td>\n",
       "      <td>No</td>\n",
       "      <td>Yes</td>\n",
       "      <td>Yes</td>\n",
       "      <td>One year</td>\n",
       "      <td>Yes</td>\n",
       "      <td>Electronic check</td>\n",
       "      <td>69.95</td>\n",
       "      <td>220.45</td>\n",
       "      <td>No</td>\n",
       "    </tr>\n",
       "    <tr>\n",
       "      <th>1196-AMORA</th>\n",
       "      <td>Male</td>\n",
       "      <td>0</td>\n",
       "      <td>No</td>\n",
       "      <td>No</td>\n",
       "      <td>7</td>\n",
       "      <td>Yes</td>\n",
       "      <td>Yes</td>\n",
       "      <td>Fiber optic</td>\n",
       "      <td>No</td>\n",
       "      <td>No</td>\n",
       "      <td>No</td>\n",
       "      <td>No</td>\n",
       "      <td>No</td>\n",
       "      <td>No</td>\n",
       "      <td>Month-to-month</td>\n",
       "      <td>No</td>\n",
       "      <td>Electronic check</td>\n",
       "      <td>73.60</td>\n",
       "      <td>520.00</td>\n",
       "      <td>Yes</td>\n",
       "    </tr>\n",
       "    <tr>\n",
       "      <th>6695-FRVEC</th>\n",
       "      <td>Male</td>\n",
       "      <td>0</td>\n",
       "      <td>Yes</td>\n",
       "      <td>Yes</td>\n",
       "      <td>67</td>\n",
       "      <td>Yes</td>\n",
       "      <td>No</td>\n",
       "      <td>DSL</td>\n",
       "      <td>Yes</td>\n",
       "      <td>No</td>\n",
       "      <td>Yes</td>\n",
       "      <td>Yes</td>\n",
       "      <td>No</td>\n",
       "      <td>No</td>\n",
       "      <td>Two year</td>\n",
       "      <td>Yes</td>\n",
       "      <td>Bank transfer (automatic)</td>\n",
       "      <td>60.40</td>\n",
       "      <td>3953.70</td>\n",
       "      <td>No</td>\n",
       "    </tr>\n",
       "  </tbody>\n",
       "</table>\n",
       "</div>"
      ],
      "text/plain": [
       "            gender  SeniorCitizen Partner Dependents  tenure PhoneService  \\\n",
       "customerID                                                                  \n",
       "5154-VEKBL  Female              0      No         No       9           No   \n",
       "9052-DHNKM    Male              0      No         No      26          Yes   \n",
       "2988-PLAHS  Female              0      No         No       3          Yes   \n",
       "1196-AMORA    Male              0      No         No       7          Yes   \n",
       "6695-FRVEC    Male              0     Yes        Yes      67          Yes   \n",
       "\n",
       "               MultipleLines InternetService OnlineSecurity OnlineBackup  \\\n",
       "customerID                                                                 \n",
       "5154-VEKBL  No phone service             DSL            Yes           No   \n",
       "9052-DHNKM               Yes             DSL            Yes          Yes   \n",
       "2988-PLAHS                No             DSL             No           No   \n",
       "1196-AMORA               Yes     Fiber optic             No           No   \n",
       "6695-FRVEC                No             DSL            Yes           No   \n",
       "\n",
       "           DeviceProtection TechSupport StreamingTV StreamingMovies  \\\n",
       "customerID                                                            \n",
       "5154-VEKBL              Yes         Yes         Yes             Yes   \n",
       "9052-DHNKM               No          No          No              No   \n",
       "2988-PLAHS              Yes          No         Yes             Yes   \n",
       "1196-AMORA               No          No          No              No   \n",
       "6695-FRVEC              Yes         Yes          No              No   \n",
       "\n",
       "                  Contract PaperlessBilling              PaymentMethod  \\\n",
       "customerID                                                               \n",
       "5154-VEKBL  Month-to-month               No               Mailed check   \n",
       "9052-DHNKM        One year               No           Electronic check   \n",
       "2988-PLAHS        One year              Yes           Electronic check   \n",
       "1196-AMORA  Month-to-month               No           Electronic check   \n",
       "6695-FRVEC        Two year              Yes  Bank transfer (automatic)   \n",
       "\n",
       "            MonthlyCharges  TotalCharges Churn  \n",
       "customerID                                      \n",
       "5154-VEKBL           58.50        539.85   Yes  \n",
       "9052-DHNKM           61.55       1581.95    No  \n",
       "2988-PLAHS           69.95        220.45    No  \n",
       "1196-AMORA           73.60        520.00   Yes  \n",
       "6695-FRVEC           60.40       3953.70    No  "
      ]
     },
     "execution_count": 13,
     "metadata": {},
     "output_type": "execute_result"
    }
   ],
   "source": [
    "training_data.head()"
   ]
  },
  {
   "cell_type": "markdown",
   "id": "be0fd140",
   "metadata": {},
   "source": [
    "Train and Test dataset information: (Shape, Dimension and Size)"
   ]
  },
  {
   "cell_type": "code",
   "execution_count": 14,
   "id": "44c80b87",
   "metadata": {},
   "outputs": [
    {
     "name": "stdout",
     "output_type": "stream",
     "text": [
      "Training Dataset:\n",
      "Shape: (4922, 20)\n",
      "Dimension: 2\n",
      "Size: 98440 \n",
      "\n",
      "Test Dataset:\n",
      "Shape:(2110, 20)\n",
      "Dimension:2\n",
      "Size:42200\n"
     ]
    }
   ],
   "source": [
    "print(\"Training Dataset:\")\n",
    "print(f\"Shape: {training_data.shape}\")\n",
    "print(f\"Dimension: {training_data.ndim}\")\n",
    "print(f\"Size: {training_data.size}\", \"\\n\")\n",
    "print(\"Test Dataset:\")\n",
    "print(f\"Shape:{testing_data.shape}\")\n",
    "print(f\"Dimension:{testing_data.ndim}\")\n",
    "print(f\"Size:{testing_data.size}\")"
   ]
  },
  {
   "cell_type": "markdown",
   "id": "86bc6470",
   "metadata": {},
   "source": [
    "Feature \"Churn\" is our target label which is dropped as part of train test split."
   ]
  },
  {
   "cell_type": "markdown",
   "id": "8c80d2e4",
   "metadata": {},
   "source": [
    "# Feature Engineering"
   ]
  },
  {
   "cell_type": "markdown",
   "id": "4ba045f7",
   "metadata": {},
   "source": [
    "To Use ML algorithms all features must be converted to numeric, therefore we explore the data to investigate non-numeric features and convert them to numerical values based on existing methods."
   ]
  },
  {
   "cell_type": "markdown",
   "id": "31eb77fd",
   "metadata": {},
   "source": [
    "Presentation of Numerical Columns"
   ]
  },
  {
   "cell_type": "code",
   "execution_count": 15,
   "id": "82c8cd0b",
   "metadata": {},
   "outputs": [
    {
     "data": {
      "text/html": [
       "<div>\n",
       "<style scoped>\n",
       "    .dataframe tbody tr th:only-of-type {\n",
       "        vertical-align: middle;\n",
       "    }\n",
       "\n",
       "    .dataframe tbody tr th {\n",
       "        vertical-align: top;\n",
       "    }\n",
       "\n",
       "    .dataframe thead th {\n",
       "        text-align: right;\n",
       "    }\n",
       "</style>\n",
       "<table border=\"1\" class=\"dataframe\">\n",
       "  <thead>\n",
       "    <tr style=\"text-align: right;\">\n",
       "      <th></th>\n",
       "      <th>SeniorCitizen</th>\n",
       "      <th>tenure</th>\n",
       "      <th>MonthlyCharges</th>\n",
       "      <th>TotalCharges</th>\n",
       "    </tr>\n",
       "  </thead>\n",
       "  <tbody>\n",
       "    <tr>\n",
       "      <th>count</th>\n",
       "      <td>7032.000000</td>\n",
       "      <td>7032.000000</td>\n",
       "      <td>7032.000000</td>\n",
       "      <td>7032.000000</td>\n",
       "    </tr>\n",
       "    <tr>\n",
       "      <th>mean</th>\n",
       "      <td>0.162400</td>\n",
       "      <td>32.421786</td>\n",
       "      <td>64.798208</td>\n",
       "      <td>2283.300441</td>\n",
       "    </tr>\n",
       "    <tr>\n",
       "      <th>std</th>\n",
       "      <td>0.368844</td>\n",
       "      <td>24.545260</td>\n",
       "      <td>30.085974</td>\n",
       "      <td>2266.771362</td>\n",
       "    </tr>\n",
       "    <tr>\n",
       "      <th>min</th>\n",
       "      <td>0.000000</td>\n",
       "      <td>1.000000</td>\n",
       "      <td>18.250000</td>\n",
       "      <td>18.800000</td>\n",
       "    </tr>\n",
       "    <tr>\n",
       "      <th>25%</th>\n",
       "      <td>0.000000</td>\n",
       "      <td>9.000000</td>\n",
       "      <td>35.587500</td>\n",
       "      <td>401.450000</td>\n",
       "    </tr>\n",
       "    <tr>\n",
       "      <th>50%</th>\n",
       "      <td>0.000000</td>\n",
       "      <td>29.000000</td>\n",
       "      <td>70.350000</td>\n",
       "      <td>1397.475000</td>\n",
       "    </tr>\n",
       "    <tr>\n",
       "      <th>75%</th>\n",
       "      <td>0.000000</td>\n",
       "      <td>55.000000</td>\n",
       "      <td>89.862500</td>\n",
       "      <td>3794.737500</td>\n",
       "    </tr>\n",
       "    <tr>\n",
       "      <th>max</th>\n",
       "      <td>1.000000</td>\n",
       "      <td>72.000000</td>\n",
       "      <td>118.750000</td>\n",
       "      <td>8684.800000</td>\n",
       "    </tr>\n",
       "  </tbody>\n",
       "</table>\n",
       "</div>"
      ],
      "text/plain": [
       "       SeniorCitizen       tenure  MonthlyCharges  TotalCharges\n",
       "count    7032.000000  7032.000000     7032.000000   7032.000000\n",
       "mean        0.162400    32.421786       64.798208   2283.300441\n",
       "std         0.368844    24.545260       30.085974   2266.771362\n",
       "min         0.000000     1.000000       18.250000     18.800000\n",
       "25%         0.000000     9.000000       35.587500    401.450000\n",
       "50%         0.000000    29.000000       70.350000   1397.475000\n",
       "75%         0.000000    55.000000       89.862500   3794.737500\n",
       "max         1.000000    72.000000      118.750000   8684.800000"
      ]
     },
     "execution_count": 15,
     "metadata": {},
     "output_type": "execute_result"
    }
   ],
   "source": [
    "df.describe()"
   ]
  },
  {
   "cell_type": "markdown",
   "id": "e759c52b",
   "metadata": {},
   "source": [
    "Presentation of Object Columns"
   ]
  },
  {
   "cell_type": "code",
   "execution_count": 16,
   "id": "a3fdf250",
   "metadata": {
    "scrolled": true
   },
   "outputs": [
    {
     "data": {
      "text/html": [
       "<div>\n",
       "<style scoped>\n",
       "    .dataframe tbody tr th:only-of-type {\n",
       "        vertical-align: middle;\n",
       "    }\n",
       "\n",
       "    .dataframe tbody tr th {\n",
       "        vertical-align: top;\n",
       "    }\n",
       "\n",
       "    .dataframe thead th {\n",
       "        text-align: right;\n",
       "    }\n",
       "</style>\n",
       "<table border=\"1\" class=\"dataframe\">\n",
       "  <thead>\n",
       "    <tr style=\"text-align: right;\">\n",
       "      <th></th>\n",
       "      <th>gender</th>\n",
       "      <th>Partner</th>\n",
       "      <th>Dependents</th>\n",
       "      <th>PhoneService</th>\n",
       "      <th>MultipleLines</th>\n",
       "      <th>InternetService</th>\n",
       "      <th>OnlineSecurity</th>\n",
       "      <th>OnlineBackup</th>\n",
       "      <th>DeviceProtection</th>\n",
       "      <th>TechSupport</th>\n",
       "      <th>StreamingTV</th>\n",
       "      <th>StreamingMovies</th>\n",
       "      <th>Contract</th>\n",
       "      <th>PaperlessBilling</th>\n",
       "      <th>PaymentMethod</th>\n",
       "      <th>Churn</th>\n",
       "    </tr>\n",
       "  </thead>\n",
       "  <tbody>\n",
       "    <tr>\n",
       "      <th>count</th>\n",
       "      <td>7032</td>\n",
       "      <td>7032</td>\n",
       "      <td>7032</td>\n",
       "      <td>7032</td>\n",
       "      <td>7032</td>\n",
       "      <td>7032</td>\n",
       "      <td>7032</td>\n",
       "      <td>7032</td>\n",
       "      <td>7032</td>\n",
       "      <td>7032</td>\n",
       "      <td>7032</td>\n",
       "      <td>7032</td>\n",
       "      <td>7032</td>\n",
       "      <td>7032</td>\n",
       "      <td>7032</td>\n",
       "      <td>7032</td>\n",
       "    </tr>\n",
       "    <tr>\n",
       "      <th>unique</th>\n",
       "      <td>2</td>\n",
       "      <td>2</td>\n",
       "      <td>2</td>\n",
       "      <td>2</td>\n",
       "      <td>3</td>\n",
       "      <td>3</td>\n",
       "      <td>3</td>\n",
       "      <td>3</td>\n",
       "      <td>3</td>\n",
       "      <td>3</td>\n",
       "      <td>3</td>\n",
       "      <td>3</td>\n",
       "      <td>3</td>\n",
       "      <td>2</td>\n",
       "      <td>4</td>\n",
       "      <td>2</td>\n",
       "    </tr>\n",
       "    <tr>\n",
       "      <th>top</th>\n",
       "      <td>Male</td>\n",
       "      <td>No</td>\n",
       "      <td>No</td>\n",
       "      <td>Yes</td>\n",
       "      <td>No</td>\n",
       "      <td>Fiber optic</td>\n",
       "      <td>No</td>\n",
       "      <td>No</td>\n",
       "      <td>No</td>\n",
       "      <td>No</td>\n",
       "      <td>No</td>\n",
       "      <td>No</td>\n",
       "      <td>Month-to-month</td>\n",
       "      <td>Yes</td>\n",
       "      <td>Electronic check</td>\n",
       "      <td>No</td>\n",
       "    </tr>\n",
       "    <tr>\n",
       "      <th>freq</th>\n",
       "      <td>3549</td>\n",
       "      <td>3639</td>\n",
       "      <td>4933</td>\n",
       "      <td>6352</td>\n",
       "      <td>3385</td>\n",
       "      <td>3096</td>\n",
       "      <td>3497</td>\n",
       "      <td>3087</td>\n",
       "      <td>3094</td>\n",
       "      <td>3472</td>\n",
       "      <td>2809</td>\n",
       "      <td>2781</td>\n",
       "      <td>3875</td>\n",
       "      <td>4168</td>\n",
       "      <td>2365</td>\n",
       "      <td>5163</td>\n",
       "    </tr>\n",
       "  </tbody>\n",
       "</table>\n",
       "</div>"
      ],
      "text/plain": [
       "       gender Partner Dependents PhoneService MultipleLines InternetService  \\\n",
       "count    7032    7032       7032         7032          7032            7032   \n",
       "unique      2       2          2            2             3               3   \n",
       "top      Male      No         No          Yes            No     Fiber optic   \n",
       "freq     3549    3639       4933         6352          3385            3096   \n",
       "\n",
       "       OnlineSecurity OnlineBackup DeviceProtection TechSupport StreamingTV  \\\n",
       "count            7032         7032             7032        7032        7032   \n",
       "unique              3            3                3           3           3   \n",
       "top                No           No               No          No          No   \n",
       "freq             3497         3087             3094        3472        2809   \n",
       "\n",
       "       StreamingMovies        Contract PaperlessBilling     PaymentMethod  \\\n",
       "count             7032            7032             7032              7032   \n",
       "unique               3               3                2                 4   \n",
       "top                 No  Month-to-month              Yes  Electronic check   \n",
       "freq              2781            3875             4168              2365   \n",
       "\n",
       "       Churn  \n",
       "count   7032  \n",
       "unique     2  \n",
       "top       No  \n",
       "freq    5163  "
      ]
     },
     "execution_count": 16,
     "metadata": {},
     "output_type": "execute_result"
    }
   ],
   "source": [
    "df.describe(include=[\"object\"])"
   ]
  },
  {
   "cell_type": "markdown",
   "id": "1695604d",
   "metadata": {},
   "source": [
    "The codes below indicate the unique count and values for each object feature."
   ]
  },
  {
   "cell_type": "code",
   "execution_count": 17,
   "id": "4576a22b",
   "metadata": {},
   "outputs": [
    {
     "name": "stdout",
     "output_type": "stream",
     "text": [
      "Column gender :\n",
      "Unique Values: ['Female' 'Male']\n",
      "Count of Unique values: 2 \n",
      "\n",
      "Column Partner :\n",
      "Unique Values: ['Yes' 'No']\n",
      "Count of Unique values: 2 \n",
      "\n",
      "Column Dependents :\n",
      "Unique Values: ['No' 'Yes']\n",
      "Count of Unique values: 2 \n",
      "\n",
      "Column PhoneService :\n",
      "Unique Values: ['No' 'Yes']\n",
      "Count of Unique values: 2 \n",
      "\n",
      "Column MultipleLines :\n",
      "Unique Values: ['No phone service' 'No' 'Yes']\n",
      "Count of Unique values: 3 \n",
      "\n",
      "Column InternetService :\n",
      "Unique Values: ['DSL' 'Fiber optic' 'No']\n",
      "Count of Unique values: 3 \n",
      "\n",
      "Column OnlineSecurity :\n",
      "Unique Values: ['No' 'Yes' 'No internet service']\n",
      "Count of Unique values: 3 \n",
      "\n",
      "Column OnlineBackup :\n",
      "Unique Values: ['Yes' 'No' 'No internet service']\n",
      "Count of Unique values: 3 \n",
      "\n",
      "Column DeviceProtection :\n",
      "Unique Values: ['No' 'Yes' 'No internet service']\n",
      "Count of Unique values: 3 \n",
      "\n",
      "Column TechSupport :\n",
      "Unique Values: ['No' 'Yes' 'No internet service']\n",
      "Count of Unique values: 3 \n",
      "\n",
      "Column StreamingTV :\n",
      "Unique Values: ['No' 'Yes' 'No internet service']\n",
      "Count of Unique values: 3 \n",
      "\n",
      "Column StreamingMovies :\n",
      "Unique Values: ['No' 'Yes' 'No internet service']\n",
      "Count of Unique values: 3 \n",
      "\n",
      "Column Contract :\n",
      "Unique Values: ['Month-to-month' 'One year' 'Two year']\n",
      "Count of Unique values: 3 \n",
      "\n",
      "Column PaperlessBilling :\n",
      "Unique Values: ['Yes' 'No']\n",
      "Count of Unique values: 2 \n",
      "\n",
      "Column PaymentMethod :\n",
      "Unique Values: ['Electronic check' 'Mailed check' 'Bank transfer (automatic)'\n",
      " 'Credit card (automatic)']\n",
      "Count of Unique values: 4 \n",
      "\n",
      "Column Churn :\n",
      "Unique Values: ['No' 'Yes']\n",
      "Count of Unique values: 2 \n",
      "\n"
     ]
    }
   ],
   "source": [
    "for i in df.select_dtypes(include=\"object\"):\n",
    "    print(\"Column\", i, \":\")\n",
    "    print(\"Unique Values:\", df[i].unique())\n",
    "    print(\"Count of Unique values:\", df[i].nunique(), \"\\n\")"
   ]
  },
  {
   "cell_type": "markdown",
   "id": "905cdc6a",
   "metadata": {},
   "source": [
    "# Total Churn Disstirbution"
   ]
  },
  {
   "cell_type": "markdown",
   "id": "7f0d3951",
   "metadata": {},
   "source": [
    "As our target:(Y) is the \"Churn\" column, therefore we explore a graphical distribution of churned and active customers as below to identify whether our data is balanced or not, in the case of imbalanced data we need to balance and normalize it."
   ]
  },
  {
   "cell_type": "code",
   "execution_count": 18,
   "id": "a32ec4c1",
   "metadata": {},
   "outputs": [
    {
     "name": "stdout",
     "output_type": "stream",
     "text": [
      "Active Subs:  5,163\n",
      "Churn Subs:  1,869\n"
     ]
    },
    {
     "data": {
      "image/png": "[encoded data removed]",
      "text/plain": [
       "<Figure size 432x288 with 1 Axes>"
      ]
     },
     "metadata": {},
     "output_type": "display_data"
    },
    {
     "name": "stdout",
     "output_type": "stream",
     "text": [
      "Active Subs:  3,614\n",
      "Churn Subs:  1,308\n"
     ]
    },
    {
     "data": {
      "image/png": "[encoded data removed]",
      "text/plain": [
       "<Figure size 432x288 with 1 Axes>"
      ]
     },
     "metadata": {},
     "output_type": "display_data"
    },
    {
     "name": "stdout",
     "output_type": "stream",
     "text": [
      "Active Subs:  1,549\n",
      "Churn Subs:  561\n"
     ]
    },
    {
     "data": {
      "image/png": "[encoded data removed]",
      "text/plain": [
       "<Figure size 432x288 with 1 Axes>"
      ]
     },
     "metadata": {},
     "output_type": "display_data"
    }
   ],
   "source": [
    "active = df[(df[\"Churn\"] == \"No\")].count()[1]\n",
    "churn = df[(df[\"Churn\"] == \"Yes\")].count()[1]\n",
    "\n",
    "print(\"Active Subs: \", f\"{active:,}\")\n",
    "print(\"Churn Subs: \", f\"{churn:,}\")\n",
    "\n",
    "sizes = [active, churn]\n",
    "labels = \"Active\", \"Churn\"\n",
    "explode = (0, 0.1)\n",
    "fig1, ax1 = plt.subplots()\n",
    "ax1.pie(sizes, explode=explode, autopct=\"%1.1f%%\", startangle=40)\n",
    "ax1.axis(\"equal\")\n",
    "ax1.set_title(\"Subscriber's Status (Total)\")\n",
    "ax1.legend(labels)\n",
    "plt.show()\n",
    "\n",
    "active = training_data[(training_data[\"Churn\"] == \"No\")].count()[1]\n",
    "churn = training_data[(training_data[\"Churn\"] == \"Yes\")].count()[1]\n",
    "print(\"Active Subs: \", f\"{active:,}\")\n",
    "print(\"Churn Subs: \", f\"{churn:,}\")\n",
    "\n",
    "sizes = [active, churn]\n",
    "labels = \"Active\", \"Churn\"\n",
    "explode = (0, 0.1)\n",
    "fig1, ax1 = plt.subplots()\n",
    "ax1.pie(sizes, explode=explode, autopct=\"%1.1f%%\", startangle=40)\n",
    "ax1.axis(\"equal\")\n",
    "ax1.set_title(\"Subscriber's Status (Train)\")\n",
    "\n",
    "ax1.legend(labels)\n",
    "plt.show()\n",
    "\n",
    "active = testing_data[(testing_data[\"Churn\"] == \"No\")].count()[1]\n",
    "churn = testing_data[(testing_data[\"Churn\"] == \"Yes\")].count()[1]\n",
    "print(\"Active Subs: \", f\"{active:,}\")\n",
    "print(\"Churn Subs: \", f\"{churn:,}\")\n",
    "\n",
    "sizes = [active, churn]\n",
    "labels = \"Active\", \"Churn\"\n",
    "explode = (0, 0.1)\n",
    "fig1, ax1 = plt.subplots()\n",
    "ax1.pie(sizes, explode=explode, autopct=\"%1.1f%%\", startangle=40)\n",
    "ax1.axis(\"equal\")\n",
    "ax1.set_title(\"Subscriber's Status (Test)\")\n",
    "\n",
    "ax1.legend(labels)\n",
    "plt.show()\n"
   ]
  },
  {
   "cell_type": "markdown",
   "id": "5ccdd714",
   "metadata": {},
   "source": [
    "# Label Encoding"
   ]
  },
  {
   "cell_type": "markdown",
   "id": "3b769fae",
   "metadata": {},
   "source": [
    "As \"Churn\" column is our target column we decided to encode it with labelEncoder to prevent header name changing"
   ]
  },
  {
   "cell_type": "code",
   "execution_count": 19,
   "id": "d18ba5a5",
   "metadata": {},
   "outputs": [],
   "source": [
    "lbl_train = LabelEncoder()\n",
    "training_data[\"Churn\"] = lbl_train.fit_transform(training_data[\"Churn\"])"
   ]
  },
  {
   "cell_type": "code",
   "execution_count": 20,
   "id": "19ae48b1",
   "metadata": {},
   "outputs": [
    {
     "data": {
      "text/html": [
       "<div>\n",
       "<style scoped>\n",
       "    .dataframe tbody tr th:only-of-type {\n",
       "        vertical-align: middle;\n",
       "    }\n",
       "\n",
       "    .dataframe tbody tr th {\n",
       "        vertical-align: top;\n",
       "    }\n",
       "\n",
       "    .dataframe thead th {\n",
       "        text-align: right;\n",
       "    }\n",
       "</style>\n",
       "<table border=\"1\" class=\"dataframe\">\n",
       "  <thead>\n",
       "    <tr style=\"text-align: right;\">\n",
       "      <th></th>\n",
       "      <th>gender</th>\n",
       "      <th>SeniorCitizen</th>\n",
       "      <th>Partner</th>\n",
       "      <th>Dependents</th>\n",
       "      <th>tenure</th>\n",
       "      <th>PhoneService</th>\n",
       "      <th>MultipleLines</th>\n",
       "      <th>InternetService</th>\n",
       "      <th>OnlineSecurity</th>\n",
       "      <th>OnlineBackup</th>\n",
       "      <th>DeviceProtection</th>\n",
       "      <th>TechSupport</th>\n",
       "      <th>StreamingTV</th>\n",
       "      <th>StreamingMovies</th>\n",
       "      <th>Contract</th>\n",
       "      <th>PaperlessBilling</th>\n",
       "      <th>PaymentMethod</th>\n",
       "      <th>MonthlyCharges</th>\n",
       "      <th>TotalCharges</th>\n",
       "      <th>Churn</th>\n",
       "    </tr>\n",
       "    <tr>\n",
       "      <th>customerID</th>\n",
       "      <th></th>\n",
       "      <th></th>\n",
       "      <th></th>\n",
       "      <th></th>\n",
       "      <th></th>\n",
       "      <th></th>\n",
       "      <th></th>\n",
       "      <th></th>\n",
       "      <th></th>\n",
       "      <th></th>\n",
       "      <th></th>\n",
       "      <th></th>\n",
       "      <th></th>\n",
       "      <th></th>\n",
       "      <th></th>\n",
       "      <th></th>\n",
       "      <th></th>\n",
       "      <th></th>\n",
       "      <th></th>\n",
       "      <th></th>\n",
       "    </tr>\n",
       "  </thead>\n",
       "  <tbody>\n",
       "    <tr>\n",
       "      <th>5154-VEKBL</th>\n",
       "      <td>Female</td>\n",
       "      <td>0</td>\n",
       "      <td>No</td>\n",
       "      <td>No</td>\n",
       "      <td>9</td>\n",
       "      <td>No</td>\n",
       "      <td>No phone service</td>\n",
       "      <td>DSL</td>\n",
       "      <td>Yes</td>\n",
       "      <td>No</td>\n",
       "      <td>Yes</td>\n",
       "      <td>Yes</td>\n",
       "      <td>Yes</td>\n",
       "      <td>Yes</td>\n",
       "      <td>Month-to-month</td>\n",
       "      <td>No</td>\n",
       "      <td>Mailed check</td>\n",
       "      <td>58.50</td>\n",
       "      <td>539.85</td>\n",
       "      <td>1</td>\n",
       "    </tr>\n",
       "    <tr>\n",
       "      <th>9052-DHNKM</th>\n",
       "      <td>Male</td>\n",
       "      <td>0</td>\n",
       "      <td>No</td>\n",
       "      <td>No</td>\n",
       "      <td>26</td>\n",
       "      <td>Yes</td>\n",
       "      <td>Yes</td>\n",
       "      <td>DSL</td>\n",
       "      <td>Yes</td>\n",
       "      <td>Yes</td>\n",
       "      <td>No</td>\n",
       "      <td>No</td>\n",
       "      <td>No</td>\n",
       "      <td>No</td>\n",
       "      <td>One year</td>\n",
       "      <td>No</td>\n",
       "      <td>Electronic check</td>\n",
       "      <td>61.55</td>\n",
       "      <td>1581.95</td>\n",
       "      <td>0</td>\n",
       "    </tr>\n",
       "    <tr>\n",
       "      <th>2988-PLAHS</th>\n",
       "      <td>Female</td>\n",
       "      <td>0</td>\n",
       "      <td>No</td>\n",
       "      <td>No</td>\n",
       "      <td>3</td>\n",
       "      <td>Yes</td>\n",
       "      <td>No</td>\n",
       "      <td>DSL</td>\n",
       "      <td>No</td>\n",
       "      <td>No</td>\n",
       "      <td>Yes</td>\n",
       "      <td>No</td>\n",
       "      <td>Yes</td>\n",
       "      <td>Yes</td>\n",
       "      <td>One year</td>\n",
       "      <td>Yes</td>\n",
       "      <td>Electronic check</td>\n",
       "      <td>69.95</td>\n",
       "      <td>220.45</td>\n",
       "      <td>0</td>\n",
       "    </tr>\n",
       "  </tbody>\n",
       "</table>\n",
       "</div>"
      ],
      "text/plain": [
       "            gender  SeniorCitizen Partner Dependents  tenure PhoneService  \\\n",
       "customerID                                                                  \n",
       "5154-VEKBL  Female              0      No         No       9           No   \n",
       "9052-DHNKM    Male              0      No         No      26          Yes   \n",
       "2988-PLAHS  Female              0      No         No       3          Yes   \n",
       "\n",
       "               MultipleLines InternetService OnlineSecurity OnlineBackup  \\\n",
       "customerID                                                                 \n",
       "5154-VEKBL  No phone service             DSL            Yes           No   \n",
       "9052-DHNKM               Yes             DSL            Yes          Yes   \n",
       "2988-PLAHS                No             DSL             No           No   \n",
       "\n",
       "           DeviceProtection TechSupport StreamingTV StreamingMovies  \\\n",
       "customerID                                                            \n",
       "5154-VEKBL              Yes         Yes         Yes             Yes   \n",
       "9052-DHNKM               No          No          No              No   \n",
       "2988-PLAHS              Yes          No         Yes             Yes   \n",
       "\n",
       "                  Contract PaperlessBilling     PaymentMethod  MonthlyCharges  \\\n",
       "customerID                                                                      \n",
       "5154-VEKBL  Month-to-month               No      Mailed check           58.50   \n",
       "9052-DHNKM        One year               No  Electronic check           61.55   \n",
       "2988-PLAHS        One year              Yes  Electronic check           69.95   \n",
       "\n",
       "            TotalCharges  Churn  \n",
       "customerID                       \n",
       "5154-VEKBL        539.85      1  \n",
       "9052-DHNKM       1581.95      0  \n",
       "2988-PLAHS        220.45      0  "
      ]
     },
     "execution_count": 20,
     "metadata": {},
     "output_type": "execute_result"
    }
   ],
   "source": [
    "training_data.head(3)"
   ]
  },
  {
   "cell_type": "code",
   "execution_count": 21,
   "id": "74459f76",
   "metadata": {},
   "outputs": [],
   "source": [
    "lbl_test = LabelEncoder()\n",
    "testing_data[\"Churn\"] = lbl_test.fit_transform(testing_data[\"Churn\"])"
   ]
  },
  {
   "cell_type": "code",
   "execution_count": 22,
   "id": "6f8d94d7",
   "metadata": {},
   "outputs": [
    {
     "data": {
      "text/html": [
       "<div>\n",
       "<style scoped>\n",
       "    .dataframe tbody tr th:only-of-type {\n",
       "        vertical-align: middle;\n",
       "    }\n",
       "\n",
       "    .dataframe tbody tr th {\n",
       "        vertical-align: top;\n",
       "    }\n",
       "\n",
       "    .dataframe thead th {\n",
       "        text-align: right;\n",
       "    }\n",
       "</style>\n",
       "<table border=\"1\" class=\"dataframe\">\n",
       "  <thead>\n",
       "    <tr style=\"text-align: right;\">\n",
       "      <th></th>\n",
       "      <th>gender</th>\n",
       "      <th>SeniorCitizen</th>\n",
       "      <th>Partner</th>\n",
       "      <th>Dependents</th>\n",
       "      <th>tenure</th>\n",
       "      <th>PhoneService</th>\n",
       "      <th>MultipleLines</th>\n",
       "      <th>InternetService</th>\n",
       "      <th>OnlineSecurity</th>\n",
       "      <th>OnlineBackup</th>\n",
       "      <th>DeviceProtection</th>\n",
       "      <th>TechSupport</th>\n",
       "      <th>StreamingTV</th>\n",
       "      <th>StreamingMovies</th>\n",
       "      <th>Contract</th>\n",
       "      <th>PaperlessBilling</th>\n",
       "      <th>PaymentMethod</th>\n",
       "      <th>MonthlyCharges</th>\n",
       "      <th>TotalCharges</th>\n",
       "      <th>Churn</th>\n",
       "    </tr>\n",
       "    <tr>\n",
       "      <th>customerID</th>\n",
       "      <th></th>\n",
       "      <th></th>\n",
       "      <th></th>\n",
       "      <th></th>\n",
       "      <th></th>\n",
       "      <th></th>\n",
       "      <th></th>\n",
       "      <th></th>\n",
       "      <th></th>\n",
       "      <th></th>\n",
       "      <th></th>\n",
       "      <th></th>\n",
       "      <th></th>\n",
       "      <th></th>\n",
       "      <th></th>\n",
       "      <th></th>\n",
       "      <th></th>\n",
       "      <th></th>\n",
       "      <th></th>\n",
       "      <th></th>\n",
       "    </tr>\n",
       "  </thead>\n",
       "  <tbody>\n",
       "    <tr>\n",
       "      <th>6614-YWYSC</th>\n",
       "      <td>Male</td>\n",
       "      <td>1</td>\n",
       "      <td>Yes</td>\n",
       "      <td>No</td>\n",
       "      <td>61</td>\n",
       "      <td>Yes</td>\n",
       "      <td>Yes</td>\n",
       "      <td>No</td>\n",
       "      <td>No internet service</td>\n",
       "      <td>No internet service</td>\n",
       "      <td>No internet service</td>\n",
       "      <td>No internet service</td>\n",
       "      <td>No internet service</td>\n",
       "      <td>No internet service</td>\n",
       "      <td>Two year</td>\n",
       "      <td>No</td>\n",
       "      <td>Bank transfer (automatic)</td>\n",
       "      <td>25.00</td>\n",
       "      <td>1501.75</td>\n",
       "      <td>0</td>\n",
       "    </tr>\n",
       "    <tr>\n",
       "      <th>9546-KDTRB</th>\n",
       "      <td>Female</td>\n",
       "      <td>0</td>\n",
       "      <td>No</td>\n",
       "      <td>No</td>\n",
       "      <td>19</td>\n",
       "      <td>Yes</td>\n",
       "      <td>Yes</td>\n",
       "      <td>No</td>\n",
       "      <td>No internet service</td>\n",
       "      <td>No internet service</td>\n",
       "      <td>No internet service</td>\n",
       "      <td>No internet service</td>\n",
       "      <td>No internet service</td>\n",
       "      <td>No internet service</td>\n",
       "      <td>Month-to-month</td>\n",
       "      <td>No</td>\n",
       "      <td>Bank transfer (automatic)</td>\n",
       "      <td>24.70</td>\n",
       "      <td>465.85</td>\n",
       "      <td>0</td>\n",
       "    </tr>\n",
       "    <tr>\n",
       "      <th>0871-URUWO</th>\n",
       "      <td>Male</td>\n",
       "      <td>0</td>\n",
       "      <td>Yes</td>\n",
       "      <td>No</td>\n",
       "      <td>13</td>\n",
       "      <td>Yes</td>\n",
       "      <td>Yes</td>\n",
       "      <td>Fiber optic</td>\n",
       "      <td>No</td>\n",
       "      <td>No</td>\n",
       "      <td>Yes</td>\n",
       "      <td>No</td>\n",
       "      <td>Yes</td>\n",
       "      <td>Yes</td>\n",
       "      <td>Month-to-month</td>\n",
       "      <td>Yes</td>\n",
       "      <td>Credit card (automatic)</td>\n",
       "      <td>102.25</td>\n",
       "      <td>1359.00</td>\n",
       "      <td>1</td>\n",
       "    </tr>\n",
       "    <tr>\n",
       "      <th>5151-HQRDG</th>\n",
       "      <td>Male</td>\n",
       "      <td>0</td>\n",
       "      <td>Yes</td>\n",
       "      <td>No</td>\n",
       "      <td>37</td>\n",
       "      <td>Yes</td>\n",
       "      <td>Yes</td>\n",
       "      <td>DSL</td>\n",
       "      <td>Yes</td>\n",
       "      <td>No</td>\n",
       "      <td>No</td>\n",
       "      <td>No</td>\n",
       "      <td>No</td>\n",
       "      <td>No</td>\n",
       "      <td>Month-to-month</td>\n",
       "      <td>Yes</td>\n",
       "      <td>Mailed check</td>\n",
       "      <td>55.05</td>\n",
       "      <td>2030.75</td>\n",
       "      <td>0</td>\n",
       "    </tr>\n",
       "    <tr>\n",
       "      <th>6624-JDRDS</th>\n",
       "      <td>Female</td>\n",
       "      <td>0</td>\n",
       "      <td>No</td>\n",
       "      <td>No</td>\n",
       "      <td>6</td>\n",
       "      <td>No</td>\n",
       "      <td>No phone service</td>\n",
       "      <td>DSL</td>\n",
       "      <td>Yes</td>\n",
       "      <td>No</td>\n",
       "      <td>No</td>\n",
       "      <td>No</td>\n",
       "      <td>No</td>\n",
       "      <td>No</td>\n",
       "      <td>Month-to-month</td>\n",
       "      <td>No</td>\n",
       "      <td>Bank transfer (automatic)</td>\n",
       "      <td>29.45</td>\n",
       "      <td>161.45</td>\n",
       "      <td>0</td>\n",
       "    </tr>\n",
       "  </tbody>\n",
       "</table>\n",
       "</div>"
      ],
      "text/plain": [
       "            gender  SeniorCitizen Partner Dependents  tenure PhoneService  \\\n",
       "customerID                                                                  \n",
       "6614-YWYSC    Male              1     Yes         No      61          Yes   \n",
       "9546-KDTRB  Female              0      No         No      19          Yes   \n",
       "0871-URUWO    Male              0     Yes         No      13          Yes   \n",
       "5151-HQRDG    Male              0     Yes         No      37          Yes   \n",
       "6624-JDRDS  Female              0      No         No       6           No   \n",
       "\n",
       "               MultipleLines InternetService       OnlineSecurity  \\\n",
       "customerID                                                          \n",
       "6614-YWYSC               Yes              No  No internet service   \n",
       "9546-KDTRB               Yes              No  No internet service   \n",
       "0871-URUWO               Yes     Fiber optic                   No   \n",
       "5151-HQRDG               Yes             DSL                  Yes   \n",
       "6624-JDRDS  No phone service             DSL                  Yes   \n",
       "\n",
       "                   OnlineBackup     DeviceProtection          TechSupport  \\\n",
       "customerID                                                                  \n",
       "6614-YWYSC  No internet service  No internet service  No internet service   \n",
       "9546-KDTRB  No internet service  No internet service  No internet service   \n",
       "0871-URUWO                   No                  Yes                   No   \n",
       "5151-HQRDG                   No                   No                   No   \n",
       "6624-JDRDS                   No                   No                   No   \n",
       "\n",
       "                    StreamingTV      StreamingMovies        Contract  \\\n",
       "customerID                                                             \n",
       "6614-YWYSC  No internet service  No internet service        Two year   \n",
       "9546-KDTRB  No internet service  No internet service  Month-to-month   \n",
       "0871-URUWO                  Yes                  Yes  Month-to-month   \n",
       "5151-HQRDG                   No                   No  Month-to-month   \n",
       "6624-JDRDS                   No                   No  Month-to-month   \n",
       "\n",
       "           PaperlessBilling              PaymentMethod  MonthlyCharges  \\\n",
       "customerID                                                               \n",
       "6614-YWYSC               No  Bank transfer (automatic)           25.00   \n",
       "9546-KDTRB               No  Bank transfer (automatic)           24.70   \n",
       "0871-URUWO              Yes    Credit card (automatic)          102.25   \n",
       "5151-HQRDG              Yes               Mailed check           55.05   \n",
       "6624-JDRDS               No  Bank transfer (automatic)           29.45   \n",
       "\n",
       "            TotalCharges  Churn  \n",
       "customerID                       \n",
       "6614-YWYSC       1501.75      0  \n",
       "9546-KDTRB        465.85      0  \n",
       "0871-URUWO       1359.00      1  \n",
       "5151-HQRDG       2030.75      0  \n",
       "6624-JDRDS        161.45      0  "
      ]
     },
     "execution_count": 22,
     "metadata": {},
     "output_type": "execute_result"
    }
   ],
   "source": [
    "testing_data.head()"
   ]
  },
  {
   "cell_type": "markdown",
   "id": "ee26c5ea",
   "metadata": {},
   "source": [
    "# Get Dummies Encoding"
   ]
  },
  {
   "cell_type": "markdown",
   "id": "b6f2ef45",
   "metadata": {},
   "source": [
    "For variables with equal or more than 2 categories, we used Get-Dummmies encoding. as we explored in the dataset, there is no priority between values for each feature, therefore, to prevent adding any weight to values we converted them with the Get-Dummies method."
   ]
  },
  {
   "cell_type": "code",
   "execution_count": 23,
   "id": "5dfda3a9",
   "metadata": {},
   "outputs": [],
   "source": [
    "training_data = pd.get_dummies(\n",
    "    training_data,\n",
    "    columns=[\n",
    "        \"gender\",\n",
    "        \"Partner\",\n",
    "        \"Dependents\",\n",
    "        \"PhoneService\",\n",
    "        \"MultipleLines\",\n",
    "        \"InternetService\",\n",
    "        \"OnlineSecurity\",\n",
    "        \"OnlineBackup\",\n",
    "        \"DeviceProtection\",\n",
    "        \"TechSupport\",\n",
    "        \"StreamingTV\",\n",
    "        \"StreamingMovies\",\n",
    "        \"Contract\",\n",
    "        \"PaperlessBilling\",\n",
    "        \"PaymentMethod\",\n",
    "    ],\n",
    ")"
   ]
  },
  {
   "cell_type": "markdown",
   "id": "b83ec0cb",
   "metadata": {},
   "source": [
    "To observe all features are converted to numerical values."
   ]
  },
  {
   "cell_type": "code",
   "execution_count": 24,
   "id": "1f50ca0e",
   "metadata": {},
   "outputs": [
    {
     "data": {
      "text/html": [
       "<div>\n",
       "<style scoped>\n",
       "    .dataframe tbody tr th:only-of-type {\n",
       "        vertical-align: middle;\n",
       "    }\n",
       "\n",
       "    .dataframe tbody tr th {\n",
       "        vertical-align: top;\n",
       "    }\n",
       "\n",
       "    .dataframe thead th {\n",
       "        text-align: right;\n",
       "    }\n",
       "</style>\n",
       "<table border=\"1\" class=\"dataframe\">\n",
       "  <thead>\n",
       "    <tr style=\"text-align: right;\">\n",
       "      <th></th>\n",
       "      <th>SeniorCitizen</th>\n",
       "      <th>tenure</th>\n",
       "      <th>MonthlyCharges</th>\n",
       "      <th>TotalCharges</th>\n",
       "      <th>Churn</th>\n",
       "      <th>gender_Female</th>\n",
       "      <th>gender_Male</th>\n",
       "      <th>Partner_No</th>\n",
       "      <th>Partner_Yes</th>\n",
       "      <th>Dependents_No</th>\n",
       "      <th>...</th>\n",
       "      <th>StreamingMovies_Yes</th>\n",
       "      <th>Contract_Month-to-month</th>\n",
       "      <th>Contract_One year</th>\n",
       "      <th>Contract_Two year</th>\n",
       "      <th>PaperlessBilling_No</th>\n",
       "      <th>PaperlessBilling_Yes</th>\n",
       "      <th>PaymentMethod_Bank transfer (automatic)</th>\n",
       "      <th>PaymentMethod_Credit card (automatic)</th>\n",
       "      <th>PaymentMethod_Electronic check</th>\n",
       "      <th>PaymentMethod_Mailed check</th>\n",
       "    </tr>\n",
       "    <tr>\n",
       "      <th>customerID</th>\n",
       "      <th></th>\n",
       "      <th></th>\n",
       "      <th></th>\n",
       "      <th></th>\n",
       "      <th></th>\n",
       "      <th></th>\n",
       "      <th></th>\n",
       "      <th></th>\n",
       "      <th></th>\n",
       "      <th></th>\n",
       "      <th></th>\n",
       "      <th></th>\n",
       "      <th></th>\n",
       "      <th></th>\n",
       "      <th></th>\n",
       "      <th></th>\n",
       "      <th></th>\n",
       "      <th></th>\n",
       "      <th></th>\n",
       "      <th></th>\n",
       "      <th></th>\n",
       "    </tr>\n",
       "  </thead>\n",
       "  <tbody>\n",
       "    <tr>\n",
       "      <th>5154-VEKBL</th>\n",
       "      <td>0</td>\n",
       "      <td>9</td>\n",
       "      <td>58.50</td>\n",
       "      <td>539.85</td>\n",
       "      <td>1</td>\n",
       "      <td>1</td>\n",
       "      <td>0</td>\n",
       "      <td>1</td>\n",
       "      <td>0</td>\n",
       "      <td>1</td>\n",
       "      <td>...</td>\n",
       "      <td>1</td>\n",
       "      <td>1</td>\n",
       "      <td>0</td>\n",
       "      <td>0</td>\n",
       "      <td>1</td>\n",
       "      <td>0</td>\n",
       "      <td>0</td>\n",
       "      <td>0</td>\n",
       "      <td>0</td>\n",
       "      <td>1</td>\n",
       "    </tr>\n",
       "    <tr>\n",
       "      <th>9052-DHNKM</th>\n",
       "      <td>0</td>\n",
       "      <td>26</td>\n",
       "      <td>61.55</td>\n",
       "      <td>1581.95</td>\n",
       "      <td>0</td>\n",
       "      <td>0</td>\n",
       "      <td>1</td>\n",
       "      <td>1</td>\n",
       "      <td>0</td>\n",
       "      <td>1</td>\n",
       "      <td>...</td>\n",
       "      <td>0</td>\n",
       "      <td>0</td>\n",
       "      <td>1</td>\n",
       "      <td>0</td>\n",
       "      <td>1</td>\n",
       "      <td>0</td>\n",
       "      <td>0</td>\n",
       "      <td>0</td>\n",
       "      <td>1</td>\n",
       "      <td>0</td>\n",
       "    </tr>\n",
       "    <tr>\n",
       "      <th>2988-PLAHS</th>\n",
       "      <td>0</td>\n",
       "      <td>3</td>\n",
       "      <td>69.95</td>\n",
       "      <td>220.45</td>\n",
       "      <td>0</td>\n",
       "      <td>1</td>\n",
       "      <td>0</td>\n",
       "      <td>1</td>\n",
       "      <td>0</td>\n",
       "      <td>1</td>\n",
       "      <td>...</td>\n",
       "      <td>1</td>\n",
       "      <td>0</td>\n",
       "      <td>1</td>\n",
       "      <td>0</td>\n",
       "      <td>0</td>\n",
       "      <td>1</td>\n",
       "      <td>0</td>\n",
       "      <td>0</td>\n",
       "      <td>1</td>\n",
       "      <td>0</td>\n",
       "    </tr>\n",
       "  </tbody>\n",
       "</table>\n",
       "<p>3 rows × 46 columns</p>\n",
       "</div>"
      ],
      "text/plain": [
       "            SeniorCitizen  tenure  MonthlyCharges  TotalCharges  Churn  \\\n",
       "customerID                                                               \n",
       "5154-VEKBL              0       9           58.50        539.85      1   \n",
       "9052-DHNKM              0      26           61.55       1581.95      0   \n",
       "2988-PLAHS              0       3           69.95        220.45      0   \n",
       "\n",
       "            gender_Female  gender_Male  Partner_No  Partner_Yes  \\\n",
       "customerID                                                        \n",
       "5154-VEKBL              1            0           1            0   \n",
       "9052-DHNKM              0            1           1            0   \n",
       "2988-PLAHS              1            0           1            0   \n",
       "\n",
       "            Dependents_No  ...  StreamingMovies_Yes  Contract_Month-to-month  \\\n",
       "customerID                 ...                                                 \n",
       "5154-VEKBL              1  ...                    1                        1   \n",
       "9052-DHNKM              1  ...                    0                        0   \n",
       "2988-PLAHS              1  ...                    1                        0   \n",
       "\n",
       "            Contract_One year  Contract_Two year  PaperlessBilling_No  \\\n",
       "customerID                                                              \n",
       "5154-VEKBL                  0                  0                    1   \n",
       "9052-DHNKM                  1                  0                    1   \n",
       "2988-PLAHS                  1                  0                    0   \n",
       "\n",
       "            PaperlessBilling_Yes  PaymentMethod_Bank transfer (automatic)  \\\n",
       "customerID                                                                  \n",
       "5154-VEKBL                     0                                        0   \n",
       "9052-DHNKM                     0                                        0   \n",
       "2988-PLAHS                     1                                        0   \n",
       "\n",
       "            PaymentMethod_Credit card (automatic)  \\\n",
       "customerID                                          \n",
       "5154-VEKBL                                      0   \n",
       "9052-DHNKM                                      0   \n",
       "2988-PLAHS                                      0   \n",
       "\n",
       "            PaymentMethod_Electronic check  PaymentMethod_Mailed check  \n",
       "customerID                                                              \n",
       "5154-VEKBL                               0                           1  \n",
       "9052-DHNKM                               1                           0  \n",
       "2988-PLAHS                               1                           0  \n",
       "\n",
       "[3 rows x 46 columns]"
      ]
     },
     "execution_count": 24,
     "metadata": {},
     "output_type": "execute_result"
    }
   ],
   "source": [
    "training_data.head(3)"
   ]
  },
  {
   "cell_type": "markdown",
   "id": "927718dc",
   "metadata": {},
   "source": [
    "As we encoded some features for our Train dataset with the same approach we will do it for the test dataset as well."
   ]
  },
  {
   "cell_type": "code",
   "execution_count": 25,
   "id": "48576013",
   "metadata": {},
   "outputs": [],
   "source": [
    "testing_data = pd.get_dummies(\n",
    "    testing_data,\n",
    "    columns=[\n",
    "        \"gender\",\n",
    "        \"Partner\",\n",
    "        \"Dependents\",\n",
    "        \"PhoneService\",\n",
    "        \"MultipleLines\",\n",
    "        \"InternetService\",\n",
    "        \"OnlineSecurity\",\n",
    "        \"OnlineBackup\",\n",
    "        \"DeviceProtection\",\n",
    "        \"TechSupport\",\n",
    "        \"StreamingTV\",\n",
    "        \"StreamingMovies\",\n",
    "        \"Contract\",\n",
    "        \"PaperlessBilling\",\n",
    "        \"PaymentMethod\",\n",
    "    ],\n",
    ")"
   ]
  },
  {
   "cell_type": "markdown",
   "id": "af4e57e9",
   "metadata": {},
   "source": [
    "To observe all features are converted to numerical values."
   ]
  },
  {
   "cell_type": "code",
   "execution_count": 26,
   "id": "26dcf515",
   "metadata": {},
   "outputs": [
    {
     "data": {
      "text/html": [
       "<div>\n",
       "<style scoped>\n",
       "    .dataframe tbody tr th:only-of-type {\n",
       "        vertical-align: middle;\n",
       "    }\n",
       "\n",
       "    .dataframe tbody tr th {\n",
       "        vertical-align: top;\n",
       "    }\n",
       "\n",
       "    .dataframe thead th {\n",
       "        text-align: right;\n",
       "    }\n",
       "</style>\n",
       "<table border=\"1\" class=\"dataframe\">\n",
       "  <thead>\n",
       "    <tr style=\"text-align: right;\">\n",
       "      <th></th>\n",
       "      <th>SeniorCitizen</th>\n",
       "      <th>tenure</th>\n",
       "      <th>MonthlyCharges</th>\n",
       "      <th>TotalCharges</th>\n",
       "      <th>Churn</th>\n",
       "      <th>gender_Female</th>\n",
       "      <th>gender_Male</th>\n",
       "      <th>Partner_No</th>\n",
       "      <th>Partner_Yes</th>\n",
       "      <th>Dependents_No</th>\n",
       "      <th>...</th>\n",
       "      <th>StreamingMovies_Yes</th>\n",
       "      <th>Contract_Month-to-month</th>\n",
       "      <th>Contract_One year</th>\n",
       "      <th>Contract_Two year</th>\n",
       "      <th>PaperlessBilling_No</th>\n",
       "      <th>PaperlessBilling_Yes</th>\n",
       "      <th>PaymentMethod_Bank transfer (automatic)</th>\n",
       "      <th>PaymentMethod_Credit card (automatic)</th>\n",
       "      <th>PaymentMethod_Electronic check</th>\n",
       "      <th>PaymentMethod_Mailed check</th>\n",
       "    </tr>\n",
       "    <tr>\n",
       "      <th>customerID</th>\n",
       "      <th></th>\n",
       "      <th></th>\n",
       "      <th></th>\n",
       "      <th></th>\n",
       "      <th></th>\n",
       "      <th></th>\n",
       "      <th></th>\n",
       "      <th></th>\n",
       "      <th></th>\n",
       "      <th></th>\n",
       "      <th></th>\n",
       "      <th></th>\n",
       "      <th></th>\n",
       "      <th></th>\n",
       "      <th></th>\n",
       "      <th></th>\n",
       "      <th></th>\n",
       "      <th></th>\n",
       "      <th></th>\n",
       "      <th></th>\n",
       "      <th></th>\n",
       "    </tr>\n",
       "  </thead>\n",
       "  <tbody>\n",
       "    <tr>\n",
       "      <th>6614-YWYSC</th>\n",
       "      <td>1</td>\n",
       "      <td>61</td>\n",
       "      <td>25.00</td>\n",
       "      <td>1501.75</td>\n",
       "      <td>0</td>\n",
       "      <td>0</td>\n",
       "      <td>1</td>\n",
       "      <td>0</td>\n",
       "      <td>1</td>\n",
       "      <td>1</td>\n",
       "      <td>...</td>\n",
       "      <td>0</td>\n",
       "      <td>0</td>\n",
       "      <td>0</td>\n",
       "      <td>1</td>\n",
       "      <td>1</td>\n",
       "      <td>0</td>\n",
       "      <td>1</td>\n",
       "      <td>0</td>\n",
       "      <td>0</td>\n",
       "      <td>0</td>\n",
       "    </tr>\n",
       "    <tr>\n",
       "      <th>9546-KDTRB</th>\n",
       "      <td>0</td>\n",
       "      <td>19</td>\n",
       "      <td>24.70</td>\n",
       "      <td>465.85</td>\n",
       "      <td>0</td>\n",
       "      <td>1</td>\n",
       "      <td>0</td>\n",
       "      <td>1</td>\n",
       "      <td>0</td>\n",
       "      <td>1</td>\n",
       "      <td>...</td>\n",
       "      <td>0</td>\n",
       "      <td>1</td>\n",
       "      <td>0</td>\n",
       "      <td>0</td>\n",
       "      <td>1</td>\n",
       "      <td>0</td>\n",
       "      <td>1</td>\n",
       "      <td>0</td>\n",
       "      <td>0</td>\n",
       "      <td>0</td>\n",
       "    </tr>\n",
       "    <tr>\n",
       "      <th>0871-URUWO</th>\n",
       "      <td>0</td>\n",
       "      <td>13</td>\n",
       "      <td>102.25</td>\n",
       "      <td>1359.00</td>\n",
       "      <td>1</td>\n",
       "      <td>0</td>\n",
       "      <td>1</td>\n",
       "      <td>0</td>\n",
       "      <td>1</td>\n",
       "      <td>1</td>\n",
       "      <td>...</td>\n",
       "      <td>1</td>\n",
       "      <td>1</td>\n",
       "      <td>0</td>\n",
       "      <td>0</td>\n",
       "      <td>0</td>\n",
       "      <td>1</td>\n",
       "      <td>0</td>\n",
       "      <td>1</td>\n",
       "      <td>0</td>\n",
       "      <td>0</td>\n",
       "    </tr>\n",
       "  </tbody>\n",
       "</table>\n",
       "<p>3 rows × 46 columns</p>\n",
       "</div>"
      ],
      "text/plain": [
       "            SeniorCitizen  tenure  MonthlyCharges  TotalCharges  Churn  \\\n",
       "customerID                                                               \n",
       "6614-YWYSC              1      61           25.00       1501.75      0   \n",
       "9546-KDTRB              0      19           24.70        465.85      0   \n",
       "0871-URUWO              0      13          102.25       1359.00      1   \n",
       "\n",
       "            gender_Female  gender_Male  Partner_No  Partner_Yes  \\\n",
       "customerID                                                        \n",
       "6614-YWYSC              0            1           0            1   \n",
       "9546-KDTRB              1            0           1            0   \n",
       "0871-URUWO              0            1           0            1   \n",
       "\n",
       "            Dependents_No  ...  StreamingMovies_Yes  Contract_Month-to-month  \\\n",
       "customerID                 ...                                                 \n",
       "6614-YWYSC              1  ...                    0                        0   \n",
       "9546-KDTRB              1  ...                    0                        1   \n",
       "0871-URUWO              1  ...                    1                        1   \n",
       "\n",
       "            Contract_One year  Contract_Two year  PaperlessBilling_No  \\\n",
       "customerID                                                              \n",
       "6614-YWYSC                  0                  1                    1   \n",
       "9546-KDTRB                  0                  0                    1   \n",
       "0871-URUWO                  0                  0                    0   \n",
       "\n",
       "            PaperlessBilling_Yes  PaymentMethod_Bank transfer (automatic)  \\\n",
       "customerID                                                                  \n",
       "6614-YWYSC                     0                                        1   \n",
       "9546-KDTRB                     0                                        1   \n",
       "0871-URUWO                     1                                        0   \n",
       "\n",
       "            PaymentMethod_Credit card (automatic)  \\\n",
       "customerID                                          \n",
       "6614-YWYSC                                      0   \n",
       "9546-KDTRB                                      0   \n",
       "0871-URUWO                                      1   \n",
       "\n",
       "            PaymentMethod_Electronic check  PaymentMethod_Mailed check  \n",
       "customerID                                                              \n",
       "6614-YWYSC                               0                           0  \n",
       "9546-KDTRB                               0                           0  \n",
       "0871-URUWO                               0                           0  \n",
       "\n",
       "[3 rows x 46 columns]"
      ]
     },
     "execution_count": 26,
     "metadata": {},
     "output_type": "execute_result"
    }
   ],
   "source": [
    "testing_data.head(3)"
   ]
  },
  {
   "cell_type": "markdown",
   "id": "600ee9ac",
   "metadata": {},
   "source": [
    "Split Training Data to test and train.\n",
    "\n",
    "we did this approach to prevent any data leakage between our main test and train dataset."
   ]
  },
  {
   "cell_type": "code",
   "execution_count": 27,
   "id": "2cdfa933",
   "metadata": {},
   "outputs": [
    {
     "name": "stdout",
     "output_type": "stream",
     "text": [
      "X_train 3445\n",
      "X_test 1477\n",
      "y_train 3445\n",
      "y_test 1477\n"
     ]
    }
   ],
   "source": [
    "x1 = training_data.drop(\"Churn\", axis=1)\n",
    "y1 = training_data[\"Churn\"]\n",
    "\n",
    "x1_train, x1_test, y1_train, y1_test = train_test_split(\n",
    "    x1, y1, test_size=0.30, random_state=42\n",
    ")\n",
    "print(\"X_train\", len(x1_train))\n",
    "print(\"X_test\", len(x1_test))\n",
    "print(\"y_train\", len(y1_train))\n",
    "print(\"y_test\", len(y1_test))"
   ]
  },
  {
   "cell_type": "code",
   "execution_count": 28,
   "id": "1249b960",
   "metadata": {},
   "outputs": [
    {
     "name": "stdout",
     "output_type": "stream",
     "text": [
      "X_train 1477\n",
      "X_test 633\n",
      "y_train 1477\n",
      "y_test 633\n"
     ]
    }
   ],
   "source": [
    "x2 = testing_data.drop(\"Churn\", axis=1)\n",
    "y2 = testing_data[\"Churn\"]\n",
    "\n",
    "x2_train, x2_test, y2_train, y2_test = train_test_split(\n",
    "    x2, y2, test_size=0.30, random_state=42\n",
    ")\n",
    "print(\"X_train\", len(x2_train))\n",
    "print(\"X_test\", len(x2_test))\n",
    "print(\"y_train\", len(y2_train))\n",
    "print(\"y_test\", len(y2_test))"
   ]
  },
  {
   "cell_type": "markdown",
   "id": "c1597ff9",
   "metadata": {},
   "source": [
    "# Feature Engineering (Over Sampling)"
   ]
  },
  {
   "cell_type": "markdown",
   "id": "d4c5c086",
   "metadata": {},
   "source": [
    "As we explored our dataset previously, our target label which is \"Churn\" is imbalanced, therefore we need to balance our dataset.\n",
    "\n",
    "For this purpose, we used SMOTE technic to generate some synthetic samples for the minority class."
   ]
  },
  {
   "cell_type": "code",
   "execution_count": 29,
   "id": "feaecae2",
   "metadata": {},
   "outputs": [],
   "source": [
    "sm1 = imblearn.over_sampling.SMOTE()\n",
    "x1_train, y1_train = sm1.fit_resample(x1_train, y1_train)"
   ]
  },
  {
   "cell_type": "code",
   "execution_count": 30,
   "id": "46dbd353",
   "metadata": {},
   "outputs": [],
   "source": [
    "sm2 = imblearn.over_sampling.SMOTE()\n",
    "x2_train, y2_train = sm2.fit_resample(x2_train, y2_train)"
   ]
  },
  {
   "cell_type": "markdown",
   "id": "0aaf479d",
   "metadata": {},
   "source": [
    "# Feature Engineering (Standardization)"
   ]
  },
  {
   "cell_type": "markdown",
   "id": "df97c8af",
   "metadata": {},
   "source": [
    "As our features have different scales like gender and other categories most are boolean, but tenure is counting months, on the other hand, we have prices like Total Charges and Monthly charges which are money but there is no preferably among them and all features weight is same. therefore we use the standardization model to rescale our feature to prevent bias in our prediction."
   ]
  },
  {
   "cell_type": "markdown",
   "id": "9cf98d7a",
   "metadata": {},
   "source": [
    "We do standardization once for our training dataset and once for the test dataset.\n",
    "\n",
    "x1_train and x1_test belong to the Training Dataset."
   ]
  },
  {
   "cell_type": "code",
   "execution_count": 31,
   "id": "237d8af8",
   "metadata": {},
   "outputs": [
    {
     "name": "stdout",
     "output_type": "stream",
     "text": [
      "x1_train Size (5048, 45)\n",
      "x1_test size (1477, 45)\n"
     ]
    }
   ],
   "source": [
    "scaler1 = sklearn.preprocessing.StandardScaler(with_mean=False)\n",
    "scaler1.fit(x1_train)\n",
    "x1_train = scaler1.transform(x1_train)\n",
    "x1_test = scaler1.transform(x1_test)\n",
    "\n",
    "print(\"x1_train Size\", x1_train.shape)\n",
    "print(\"x1_test size\", x1_test.shape)"
   ]
  },
  {
   "cell_type": "markdown",
   "id": "34e9040d",
   "metadata": {},
   "source": [
    "Standardization for the test dataset.\n",
    "\n",
    "x2_train and x2_test belong to the Testing Dataset."
   ]
  },
  {
   "cell_type": "code",
   "execution_count": 32,
   "id": "9c54b385",
   "metadata": {},
   "outputs": [
    {
     "name": "stdout",
     "output_type": "stream",
     "text": [
      "x_train size (2166, 45)\n",
      "x_test size (633, 45)\n"
     ]
    }
   ],
   "source": [
    "scaler2 = sklearn.preprocessing.StandardScaler(with_mean=False)\n",
    "scaler2.fit(x2_train)\n",
    "x2_train = scaler2.transform(x2_train)\n",
    "x2_test = scaler2.transform(x2_test)\n",
    "\n",
    "print(\"x_train size\", x2_train.shape)\n",
    "print(\"x_test size\", x2_test.shape)"
   ]
  },
  {
   "cell_type": "markdown",
   "id": "44359e0d",
   "metadata": {},
   "source": [
    "# Model Assessment"
   ]
  },
  {
   "cell_type": "markdown",
   "id": "281a8025",
   "metadata": {},
   "source": [
    "# Model Selection and Hyperparameter Tunning"
   ]
  },
  {
   "cell_type": "markdown",
   "id": "7f67476a",
   "metadata": {},
   "source": [
    "In the following steps, we will tune some Hyperparameters which were important according to Scikit-learn documentation.\n",
    "\n",
    "below Classification algorithms are selected and tuned:\n",
    "1. Decision Tree\n",
    "2. Support vector machines (SVMs)\n",
    "3. Gaussian Naive Bayes\n",
    "4. K-Nearest Neighbour (KNN)\n",
    "5. Logistic Regression"
   ]
  },
  {
   "cell_type": "markdown",
   "id": "9b52e665",
   "metadata": {},
   "source": [
    "# 1. Decision Tree"
   ]
  },
  {
   "cell_type": "code",
   "execution_count": 33,
   "id": "2a71cc80",
   "metadata": {},
   "outputs": [
    {
     "name": "stdout",
     "output_type": "stream",
     "text": [
      "Fitting 5 folds for each of 950 candidates, totalling 4750 fits\n",
      "Accuracy of best Decision Tree classfier = 0.83\n",
      "Best found Hyperparameters of Decision Tree classifier ={'criterion': 'gini', 'max_depth': 9, 'min_samples_split': 26}\n"
     ]
    }
   ],
   "source": [
    "parameters_grid = {\n",
    "    \"criterion\": [\"gini\", \"entropy\"],\n",
    "    \"max_depth\": range(1, 50, 2),\n",
    "    \"min_samples_split\": range(2, 40, 2),\n",
    "}\n",
    "model_dt = sklearn.model_selection.GridSearchCV(\n",
    "    sklearn.tree.DecisionTreeClassifier(),\n",
    "    parameters_grid,\n",
    "    scoring=\"accuracy\",\n",
    "    cv=5,\n",
    "    verbose=2,\n",
    "    n_jobs=-1,\n",
    ")\n",
    "model_dt.fit(x1_train, y1_train)\n",
    "print(\"Accuracy of best Decision Tree classfier = {:.2f}\".format(model_dt.best_score_))\n",
    "print(\n",
    "    \"Best found Hyperparameters of Decision Tree classifier ={}\".format(\n",
    "        model_dt.best_params_\n",
    "    )\n",
    ")"
   ]
  },
  {
   "cell_type": "markdown",
   "id": "d8656caa",
   "metadata": {},
   "source": [
    "# 2. SVM"
   ]
  },
  {
   "cell_type": "code",
   "execution_count": 34,
   "id": "e4864bcc",
   "metadata": {},
   "outputs": [
    {
     "name": "stdout",
     "output_type": "stream",
     "text": [
      "Fitting 5 folds for each of 21 candidates, totalling 105 fits\n",
      "Accuracy of best SVM classfier = 0.83\n",
      "Best found Hyperparameters of SVM classifier ={'C': 1, 'kernel': 'rbf'}\n"
     ]
    }
   ],
   "source": [
    "parameters_grid = {\n",
    "    \"kernel\": [\"rbf\", \"poly\", \"sigmoid\"],\n",
    "    \"C\": [ 0.01, 0.1, 1, 10,100,200,300]\n",
    "}\n",
    "model_svm = sklearn.model_selection.GridSearchCV(\n",
    "    sklearn.svm.SVC(), parameters_grid, scoring=\"accuracy\", cv=5, verbose=2, n_jobs=-1\n",
    ")\n",
    "model_svm.fit(x1_train, y1_train)\n",
    "print(\"Accuracy of best SVM classfier = {:.2f}\".format(model_svm.best_score_))\n",
    "print(\"Best found Hyperparameters of SVM classifier ={}\".format(model_svm.best_params_))\n"
   ]
  },
  {
   "cell_type": "markdown",
   "id": "5979041c",
   "metadata": {},
   "source": [
    "# 3. Gaussian Naive Bayes"
   ]
  },
  {
   "cell_type": "code",
   "execution_count": 35,
   "id": "82b15876",
   "metadata": {},
   "outputs": [
    {
     "name": "stdout",
     "output_type": "stream",
     "text": [
      "Fitting 5 folds for each of 100 candidates, totalling 500 fits\n",
      "Accuracy of best Naive Bayes classfier = 0.79\n",
      "Best found Hyperparameters of Naive Bayes classifier ={'var_smoothing': 0.02310129700083159}\n"
     ]
    }
   ],
   "source": [
    "parameters_grid = {\"var_smoothing\": np.logspace(0, -9, num=100)}\n",
    "\n",
    "model_naiveb = sklearn.model_selection.GridSearchCV(\n",
    "    sklearn.naive_bayes.GaussianNB(),\n",
    "    parameters_grid,\n",
    "    scoring=\"accuracy\",\n",
    "    cv=5,\n",
    "    verbose=2,\n",
    "    n_jobs=-1,\n",
    ")\n",
    "model_naiveb.fit(x1_train, y1_train)\n",
    "print(\n",
    "    \"Accuracy of best Naive Bayes classfier = {:.2f}\".format(model_naiveb.best_score_)\n",
    ")\n",
    "print(\n",
    "    \"Best found Hyperparameters of Naive Bayes classifier ={}\".format(\n",
    "        model_naiveb.best_params_\n",
    "    )\n",
    ")"
   ]
  },
  {
   "cell_type": "markdown",
   "id": "bf95d02a",
   "metadata": {},
   "source": [
    "# 4. KNN"
   ]
  },
  {
   "cell_type": "code",
   "execution_count": 36,
   "id": "ea644140",
   "metadata": {},
   "outputs": [
    {
     "name": "stdout",
     "output_type": "stream",
     "text": [
      "Fitting 5 folds for each of 4212 candidates, totalling 21060 fits\n",
      "Accuracy of best KNN classfier = 0.83\n",
      "Best found Hyperparameters of KNN classifier ={'leaf_size': 1, 'metric': 'manhattan', 'n_neighbors': 10, 'p': 1, 'weights': 'uniform'}\n"
     ]
    }
   ],
   "source": [
    "parameters_grid = {\n",
    "    \"leaf_size\": range(1, 10),\n",
    "    \"n_neighbors\": range(1, 40),\n",
    "    \"p\": [1, 2],\n",
    "    \"weights\": [\"uniform\", \"distance\"],\n",
    "    \"metric\": [\"euclidean\", \"manhattan\", \"minkowski\"],\n",
    "}\n",
    "\n",
    "model_knn = sklearn.model_selection.GridSearchCV(\n",
    "    sklearn.neighbors.KNeighborsClassifier(),\n",
    "    parameters_grid,\n",
    "    scoring=\"accuracy\",\n",
    "    cv=5,\n",
    "    verbose=2,\n",
    "    n_jobs=-1,\n",
    ")\n",
    "model_knn.fit(x1_train, y1_train)\n",
    "print(\"Accuracy of best KNN classfier = {:.2f}\".format(model_knn.best_score_))\n",
    "print(\"Best found Hyperparameters of KNN classifier ={}\".format(model_knn.best_params_))"
   ]
  },
  {
   "cell_type": "markdown",
   "id": "251b3eb2",
   "metadata": {},
   "source": [
    "# 5. Logistic Regression"
   ]
  },
  {
   "cell_type": "code",
   "execution_count": 37,
   "id": "61032c33",
   "metadata": {},
   "outputs": [
    {
     "name": "stdout",
     "output_type": "stream",
     "text": [
      "Fitting 5 folds for each of 4000 candidates, totalling 20000 fits\n",
      "Accuracy of best Logistic Regression classfier = 0.86\n",
      "Best found Hyperparameters of Logistic Regression classifier ={'C': 1100, 'penalty': 'l2', 'solver': 'sag', 'tol': 0.1}\n"
     ]
    }
   ],
   "source": [
    "parameters_grid = {\n",
    "    \"solver\": [\"newton-cg\", \"lbfgs\", \"liblinear\", \"sag\", \"saga\"],\n",
    "    \"penalty\": [\"l2\"],\n",
    "    \"C\": [\n",
    "        1000,\n",
    "        1100,\n",
    "        1200,\n",
    "        1300,\n",
    "        1400,\n",
    "        1500,\n",
    "        1600,\n",
    "        2000,\n",
    "    ],\n",
    "    \"tol\": np.logspace(0, -9, num=100),\n",
    "}\n",
    "\n",
    "model_lr = sklearn.model_selection.GridSearchCV(\n",
    "    sklearn.linear_model.LogisticRegression(),\n",
    "    parameters_grid,\n",
    "    scoring=\"accuracy\",\n",
    "    cv=5,\n",
    "    verbose=2,\n",
    "    n_jobs=-1,\n",
    ")\n",
    "model_lr.fit(x1_train, y1_train)\n",
    "print(\n",
    "    \"Accuracy of best Logistic Regression classfier = {:.2f}\".format(\n",
    "        model_lr.best_score_\n",
    "    )\n",
    ")\n",
    "print(\n",
    "    \"Best found Hyperparameters of Logistic Regression classifier ={}\".format(\n",
    "        model_lr.best_params_\n",
    "    )\n",
    ")"
   ]
  },
  {
   "cell_type": "markdown",
   "id": "b3f4c9a9",
   "metadata": {},
   "source": [
    "# Training and Testing Models"
   ]
  },
  {
   "cell_type": "markdown",
   "id": "be551d6a",
   "metadata": {},
   "source": [
    "# 1. Decision Tree"
   ]
  },
  {
   "cell_type": "markdown",
   "id": "c7327bba",
   "metadata": {},
   "source": [
    "we will set all hyperparameters which are found in the above GridSearch Algorithm in the following models to train our model; then accordingly predict our test dataset. \n",
    "in our prediction we will represent four measures as below:\n",
    "* \"Accuracy\"\n",
    "* \"Precision\"\n",
    "* \"Recall\"\n",
    "* \"F1\""
   ]
  },
  {
   "cell_type": "code",
   "execution_count": 44,
   "id": "4e5558b2",
   "metadata": {},
   "outputs": [
    {
     "data": {
      "text/html": [
       "<style>#sk-container-id-4 {color: black;background-color: white;}#sk-container-id-4 pre{padding: 0;}#sk-container-id-4 div.sk-toggleable {background-color: white;}#sk-container-id-4 label.sk-toggleable__label {cursor: pointer;display: block;width: 100%;margin-bottom: 0;padding: 0.3em;box-sizing: border-box;text-align: center;}#sk-container-id-4 label.sk-toggleable__label-arrow:before {content: \"▸\";float: left;margin-right: 0.25em;color: #696969;}#sk-container-id-4 label.sk-toggleable__label-arrow:hover:before {color: black;}#sk-container-id-4 div.sk-estimator:hover label.sk-toggleable__label-arrow:before {color: black;}#sk-container-id-4 div.sk-toggleable__content {max-height: 0;max-width: 0;overflow: hidden;text-align: left;background-color: #f0f8ff;}#sk-container-id-4 div.sk-toggleable__content pre {margin: 0.2em;color: black;border-radius: 0.25em;background-color: #f0f8ff;}#sk-container-id-4 input.sk-toggleable__control:checked~div.sk-toggleable__content {max-height: 200px;max-width: 100%;overflow: auto;}#sk-container-id-4 input.sk-toggleable__control:checked~label.sk-toggleable__label-arrow:before {content: \"▾\";}#sk-container-id-4 div.sk-estimator input.sk-toggleable__control:checked~label.sk-toggleable__label {background-color: #d4ebff;}#sk-container-id-4 div.sk-label input.sk-toggleable__control:checked~label.sk-toggleable__label {background-color: #d4ebff;}#sk-container-id-4 input.sk-hidden--visually {border: 0;clip: rect(1px 1px 1px 1px);clip: rect(1px, 1px, 1px, 1px);height: 1px;margin: -1px;overflow: hidden;padding: 0;position: absolute;width: 1px;}#sk-container-id-4 div.sk-estimator {font-family: monospace;background-color: #f0f8ff;border: 1px dotted black;border-radius: 0.25em;box-sizing: border-box;margin-bottom: 0.5em;}#sk-container-id-4 div.sk-estimator:hover {background-color: #d4ebff;}#sk-container-id-4 div.sk-parallel-item::after {content: \"\";width: 100%;border-bottom: 1px solid gray;flex-grow: 1;}#sk-container-id-4 div.sk-label:hover label.sk-toggleable__label {background-color: #d4ebff;}#sk-container-id-4 div.sk-serial::before {content: \"\";position: absolute;border-left: 1px solid gray;box-sizing: border-box;top: 0;bottom: 0;left: 50%;z-index: 0;}#sk-container-id-4 div.sk-serial {display: flex;flex-direction: column;align-items: center;background-color: white;padding-right: 0.2em;padding-left: 0.2em;position: relative;}#sk-container-id-4 div.sk-item {position: relative;z-index: 1;}#sk-container-id-4 div.sk-parallel {display: flex;align-items: stretch;justify-content: center;background-color: white;position: relative;}#sk-container-id-4 div.sk-item::before, #sk-container-id-4 div.sk-parallel-item::before {content: \"\";position: absolute;border-left: 1px solid gray;box-sizing: border-box;top: 0;bottom: 0;left: 50%;z-index: -1;}#sk-container-id-4 div.sk-parallel-item {display: flex;flex-direction: column;z-index: 1;position: relative;background-color: white;}#sk-container-id-4 div.sk-parallel-item:first-child::after {align-self: flex-end;width: 50%;}#sk-container-id-4 div.sk-parallel-item:last-child::after {align-self: flex-start;width: 50%;}#sk-container-id-4 div.sk-parallel-item:only-child::after {width: 0;}#sk-container-id-4 div.sk-dashed-wrapped {border: 1px dashed gray;margin: 0 0.4em 0.5em 0.4em;box-sizing: border-box;padding-bottom: 0.4em;background-color: white;}#sk-container-id-4 div.sk-label label {font-family: monospace;font-weight: bold;display: inline-block;line-height: 1.2em;}#sk-container-id-4 div.sk-label-container {text-align: center;}#sk-container-id-4 div.sk-container {/* jupyter's `normalize.less` sets `[hidden] { display: none; }` but bootstrap.min.css set `[hidden] { display: none !important; }` so we also need the `!important` here to be able to override the default hidden behavior on the sphinx rendered scikit-learn.org. See: https://github.com/scikit-learn/scikit-learn/issues/21755 */display: inline-block !important;position: relative;}#sk-container-id-4 div.sk-text-repr-fallback {display: none;}</style><div id=\"sk-container-id-4\" class=\"sk-top-container\"><div class=\"sk-text-repr-fallback\"><pre>DecisionTreeClassifier(max_depth=9, min_samples_split=26)</pre><b>In a Jupyter environment, please rerun this cell to show the HTML representation or trust the notebook. <br />On GitHub, the HTML representation is unable to render, please try loading this page with nbviewer.org.</b></div><div class=\"sk-container\" hidden><div class=\"sk-item\"><div class=\"sk-estimator sk-toggleable\"><input class=\"sk-toggleable__control sk-hidden--visually\" id=\"sk-estimator-id-4\" type=\"checkbox\" checked><label for=\"sk-estimator-id-4\" class=\"sk-toggleable__label sk-toggleable__label-arrow\">DecisionTreeClassifier</label><div class=\"sk-toggleable__content\"><pre>DecisionTreeClassifier(max_depth=9, min_samples_split=26)</pre></div></div></div></div></div>"
      ],
      "text/plain": [
       "DecisionTreeClassifier(max_depth=9, min_samples_split=26)"
      ]
     },
     "execution_count": 44,
     "metadata": {},
     "output_type": "execute_result"
    }
   ],
   "source": [
    "model_dt = sklearn.tree.DecisionTreeClassifier(\n",
    "    criterion=\"gini\", max_depth=9, min_samples_split=26\n",
    ")\n",
    "model_dt.fit(x1_test, y1_test)"
   ]
  },
  {
   "cell_type": "code",
   "execution_count": 45,
   "id": "7c6331a5",
   "metadata": {},
   "outputs": [
    {
     "data": {
      "text/html": [
       "<div>\n",
       "<style scoped>\n",
       "    .dataframe tbody tr th:only-of-type {\n",
       "        vertical-align: middle;\n",
       "    }\n",
       "\n",
       "    .dataframe tbody tr th {\n",
       "        vertical-align: top;\n",
       "    }\n",
       "\n",
       "    .dataframe thead th {\n",
       "        text-align: right;\n",
       "    }\n",
       "</style>\n",
       "<table border=\"1\" class=\"dataframe\">\n",
       "  <thead>\n",
       "    <tr style=\"text-align: right;\">\n",
       "      <th></th>\n",
       "      <th>0</th>\n",
       "    </tr>\n",
       "  </thead>\n",
       "  <tbody>\n",
       "    <tr>\n",
       "      <th>Accuracy</th>\n",
       "      <td>77.25</td>\n",
       "    </tr>\n",
       "    <tr>\n",
       "      <th>Precision</th>\n",
       "      <td>57.42</td>\n",
       "    </tr>\n",
       "    <tr>\n",
       "      <th>Recall</th>\n",
       "      <td>53.29</td>\n",
       "    </tr>\n",
       "    <tr>\n",
       "      <th>F1</th>\n",
       "      <td>55.28</td>\n",
       "    </tr>\n",
       "  </tbody>\n",
       "</table>\n",
       "</div>"
      ],
      "text/plain": [
       "               0\n",
       "Accuracy   77.25\n",
       "Precision  57.42\n",
       "Recall     53.29\n",
       "F1         55.28"
      ]
     },
     "execution_count": 45,
     "metadata": {},
     "output_type": "execute_result"
    }
   ],
   "source": [
    "y_predicted = model_dt.predict(x2_test)\n",
    "accuracy_dt = sklearn.metrics.accuracy_score(y2_test, y_predicted)\n",
    "accuracy_dt = round(accuracy_dt * 100, 2)\n",
    "precision_dt = round(sklearn.metrics.precision_score(y2_test, y_predicted) * 100, 2)\n",
    "recall_dt = round(sklearn.metrics.recall_score(y2_test, y_predicted) * 100, 2)\n",
    "f1_dt = round(sklearn.metrics.f1_score(y2_test, y_predicted) * 100, 2)\n",
    "# cm = sklearn.metrics.confusion_matrix(y2_test, y_predicted)\n",
    "\n",
    "header = [\"Accuracy\", \"Precision\", \"Recall\", \"F1\"]\n",
    "data_dt = np.array([accuracy_dt, precision_dt, recall_dt, f1_dt])\n",
    "pd.DataFrame(data_dt, header)\n",
    "# print(cm)"
   ]
  },
  {
   "cell_type": "markdown",
   "id": "c179c617",
   "metadata": {},
   "source": [
    "Graphical view of Decision Tree"
   ]
  },
  {
   "cell_type": "code",
   "execution_count": 46,
   "id": "b761fd64",
   "metadata": {},
   "outputs": [
    {
     "data": {
      "image/png": "[encoded data removed]",
      "text/plain": [
       "<Figure size 432x288 with 1 Axes>"
      ]
     },
     "metadata": {
      "needs_background": "light"
     },
     "output_type": "display_data"
    }
   ],
   "source": [
    "tree.plot_tree(model_dt);"
   ]
  },
  {
   "cell_type": "markdown",
   "id": "f7768530",
   "metadata": {},
   "source": [
    "# 2. SVM"
   ]
  },
  {
   "cell_type": "code",
   "execution_count": 48,
   "id": "e087af57",
   "metadata": {},
   "outputs": [
    {
     "data": {
      "text/html": [
       "<style>#sk-container-id-6 {color: black;background-color: white;}#sk-container-id-6 pre{padding: 0;}#sk-container-id-6 div.sk-toggleable {background-color: white;}#sk-container-id-6 label.sk-toggleable__label {cursor: pointer;display: block;width: 100%;margin-bottom: 0;padding: 0.3em;box-sizing: border-box;text-align: center;}#sk-container-id-6 label.sk-toggleable__label-arrow:before {content: \"▸\";float: left;margin-right: 0.25em;color: #696969;}#sk-container-id-6 label.sk-toggleable__label-arrow:hover:before {color: black;}#sk-container-id-6 div.sk-estimator:hover label.sk-toggleable__label-arrow:before {color: black;}#sk-container-id-6 div.sk-toggleable__content {max-height: 0;max-width: 0;overflow: hidden;text-align: left;background-color: #f0f8ff;}#sk-container-id-6 div.sk-toggleable__content pre {margin: 0.2em;color: black;border-radius: 0.25em;background-color: #f0f8ff;}#sk-container-id-6 input.sk-toggleable__control:checked~div.sk-toggleable__content {max-height: 200px;max-width: 100%;overflow: auto;}#sk-container-id-6 input.sk-toggleable__control:checked~label.sk-toggleable__label-arrow:before {content: \"▾\";}#sk-container-id-6 div.sk-estimator input.sk-toggleable__control:checked~label.sk-toggleable__label {background-color: #d4ebff;}#sk-container-id-6 div.sk-label input.sk-toggleable__control:checked~label.sk-toggleable__label {background-color: #d4ebff;}#sk-container-id-6 input.sk-hidden--visually {border: 0;clip: rect(1px 1px 1px 1px);clip: rect(1px, 1px, 1px, 1px);height: 1px;margin: -1px;overflow: hidden;padding: 0;position: absolute;width: 1px;}#sk-container-id-6 div.sk-estimator {font-family: monospace;background-color: #f0f8ff;border: 1px dotted black;border-radius: 0.25em;box-sizing: border-box;margin-bottom: 0.5em;}#sk-container-id-6 div.sk-estimator:hover {background-color: #d4ebff;}#sk-container-id-6 div.sk-parallel-item::after {content: \"\";width: 100%;border-bottom: 1px solid gray;flex-grow: 1;}#sk-container-id-6 div.sk-label:hover label.sk-toggleable__label {background-color: #d4ebff;}#sk-container-id-6 div.sk-serial::before {content: \"\";position: absolute;border-left: 1px solid gray;box-sizing: border-box;top: 0;bottom: 0;left: 50%;z-index: 0;}#sk-container-id-6 div.sk-serial {display: flex;flex-direction: column;align-items: center;background-color: white;padding-right: 0.2em;padding-left: 0.2em;position: relative;}#sk-container-id-6 div.sk-item {position: relative;z-index: 1;}#sk-container-id-6 div.sk-parallel {display: flex;align-items: stretch;justify-content: center;background-color: white;position: relative;}#sk-container-id-6 div.sk-item::before, #sk-container-id-6 div.sk-parallel-item::before {content: \"\";position: absolute;border-left: 1px solid gray;box-sizing: border-box;top: 0;bottom: 0;left: 50%;z-index: -1;}#sk-container-id-6 div.sk-parallel-item {display: flex;flex-direction: column;z-index: 1;position: relative;background-color: white;}#sk-container-id-6 div.sk-parallel-item:first-child::after {align-self: flex-end;width: 50%;}#sk-container-id-6 div.sk-parallel-item:last-child::after {align-self: flex-start;width: 50%;}#sk-container-id-6 div.sk-parallel-item:only-child::after {width: 0;}#sk-container-id-6 div.sk-dashed-wrapped {border: 1px dashed gray;margin: 0 0.4em 0.5em 0.4em;box-sizing: border-box;padding-bottom: 0.4em;background-color: white;}#sk-container-id-6 div.sk-label label {font-family: monospace;font-weight: bold;display: inline-block;line-height: 1.2em;}#sk-container-id-6 div.sk-label-container {text-align: center;}#sk-container-id-6 div.sk-container {/* jupyter's `normalize.less` sets `[hidden] { display: none; }` but bootstrap.min.css set `[hidden] { display: none !important; }` so we also need the `!important` here to be able to override the default hidden behavior on the sphinx rendered scikit-learn.org. See: https://github.com/scikit-learn/scikit-learn/issues/21755 */display: inline-block !important;position: relative;}#sk-container-id-6 div.sk-text-repr-fallback {display: none;}</style><div id=\"sk-container-id-6\" class=\"sk-top-container\"><div class=\"sk-text-repr-fallback\"><pre>SVC(C=1)</pre><b>In a Jupyter environment, please rerun this cell to show the HTML representation or trust the notebook. <br />On GitHub, the HTML representation is unable to render, please try loading this page with nbviewer.org.</b></div><div class=\"sk-container\" hidden><div class=\"sk-item\"><div class=\"sk-estimator sk-toggleable\"><input class=\"sk-toggleable__control sk-hidden--visually\" id=\"sk-estimator-id-6\" type=\"checkbox\" checked><label for=\"sk-estimator-id-6\" class=\"sk-toggleable__label sk-toggleable__label-arrow\">SVC</label><div class=\"sk-toggleable__content\"><pre>SVC(C=1)</pre></div></div></div></div></div>"
      ],
      "text/plain": [
       "SVC(C=1)"
      ]
     },
     "execution_count": 48,
     "metadata": {},
     "output_type": "execute_result"
    }
   ],
   "source": [
    "model_svm = sklearn.svm.SVC(C=1, kernel=\"rbf\")\n",
    "model_svm.fit(x1_test, y1_test)"
   ]
  },
  {
   "cell_type": "code",
   "execution_count": 50,
   "id": "45de1438",
   "metadata": {},
   "outputs": [
    {
     "data": {
      "text/html": [
       "<div>\n",
       "<style scoped>\n",
       "    .dataframe tbody tr th:only-of-type {\n",
       "        vertical-align: middle;\n",
       "    }\n",
       "\n",
       "    .dataframe tbody tr th {\n",
       "        vertical-align: top;\n",
       "    }\n",
       "\n",
       "    .dataframe thead th {\n",
       "        text-align: right;\n",
       "    }\n",
       "</style>\n",
       "<table border=\"1\" class=\"dataframe\">\n",
       "  <thead>\n",
       "    <tr style=\"text-align: right;\">\n",
       "      <th></th>\n",
       "      <th>0</th>\n",
       "    </tr>\n",
       "  </thead>\n",
       "  <tbody>\n",
       "    <tr>\n",
       "      <th>Accuracy</th>\n",
       "      <td>79.78</td>\n",
       "    </tr>\n",
       "    <tr>\n",
       "      <th>Precision</th>\n",
       "      <td>64.44</td>\n",
       "    </tr>\n",
       "    <tr>\n",
       "      <th>Recall</th>\n",
       "      <td>52.10</td>\n",
       "    </tr>\n",
       "    <tr>\n",
       "      <th>F1</th>\n",
       "      <td>57.62</td>\n",
       "    </tr>\n",
       "  </tbody>\n",
       "</table>\n",
       "</div>"
      ],
      "text/plain": [
       "               0\n",
       "Accuracy   79.78\n",
       "Precision  64.44\n",
       "Recall     52.10\n",
       "F1         57.62"
      ]
     },
     "execution_count": 50,
     "metadata": {},
     "output_type": "execute_result"
    }
   ],
   "source": [
    "y_predicted = model_svm.predict(x2_test)\n",
    "accuracy_svm = sklearn.metrics.accuracy_score(y2_test, y_predicted)\n",
    "accuracy_svm = round(accuracy_svm * 100, 2)\n",
    "precision_svm = round(sklearn.metrics.precision_score(y2_test, y_predicted) * 100, 2)\n",
    "recall_svm = round(sklearn.metrics.recall_score(y2_test, y_predicted) * 100, 2)\n",
    "f1_svm = round(sklearn.metrics.f1_score(y2_test, y_predicted) * 100, 2)\n",
    "# cm = sklearn.metrics.confusion_matrix(y2_test, y_predicted)\n",
    "header = [\"Accuracy\", \"Precision\", \"Recall\", \"F1\"]\n",
    "data_svm = np.array([accuracy_svm, precision_svm, recall_svm, f1_svm])\n",
    "pd.DataFrame(data_svm, header)\n",
    "# print(cm)"
   ]
  },
  {
   "cell_type": "markdown",
   "id": "94fa4ed7",
   "metadata": {},
   "source": [
    "# 3. Gaussian Naive Bayes"
   ]
  },
  {
   "cell_type": "code",
   "execution_count": 53,
   "id": "314c27d0",
   "metadata": {},
   "outputs": [
    {
     "data": {
      "text/html": [
       "<style>#sk-container-id-8 {color: black;background-color: white;}#sk-container-id-8 pre{padding: 0;}#sk-container-id-8 div.sk-toggleable {background-color: white;}#sk-container-id-8 label.sk-toggleable__label {cursor: pointer;display: block;width: 100%;margin-bottom: 0;padding: 0.3em;box-sizing: border-box;text-align: center;}#sk-container-id-8 label.sk-toggleable__label-arrow:before {content: \"▸\";float: left;margin-right: 0.25em;color: #696969;}#sk-container-id-8 label.sk-toggleable__label-arrow:hover:before {color: black;}#sk-container-id-8 div.sk-estimator:hover label.sk-toggleable__label-arrow:before {color: black;}#sk-container-id-8 div.sk-toggleable__content {max-height: 0;max-width: 0;overflow: hidden;text-align: left;background-color: #f0f8ff;}#sk-container-id-8 div.sk-toggleable__content pre {margin: 0.2em;color: black;border-radius: 0.25em;background-color: #f0f8ff;}#sk-container-id-8 input.sk-toggleable__control:checked~div.sk-toggleable__content {max-height: 200px;max-width: 100%;overflow: auto;}#sk-container-id-8 input.sk-toggleable__control:checked~label.sk-toggleable__label-arrow:before {content: \"▾\";}#sk-container-id-8 div.sk-estimator input.sk-toggleable__control:checked~label.sk-toggleable__label {background-color: #d4ebff;}#sk-container-id-8 div.sk-label input.sk-toggleable__control:checked~label.sk-toggleable__label {background-color: #d4ebff;}#sk-container-id-8 input.sk-hidden--visually {border: 0;clip: rect(1px 1px 1px 1px);clip: rect(1px, 1px, 1px, 1px);height: 1px;margin: -1px;overflow: hidden;padding: 0;position: absolute;width: 1px;}#sk-container-id-8 div.sk-estimator {font-family: monospace;background-color: #f0f8ff;border: 1px dotted black;border-radius: 0.25em;box-sizing: border-box;margin-bottom: 0.5em;}#sk-container-id-8 div.sk-estimator:hover {background-color: #d4ebff;}#sk-container-id-8 div.sk-parallel-item::after {content: \"\";width: 100%;border-bottom: 1px solid gray;flex-grow: 1;}#sk-container-id-8 div.sk-label:hover label.sk-toggleable__label {background-color: #d4ebff;}#sk-container-id-8 div.sk-serial::before {content: \"\";position: absolute;border-left: 1px solid gray;box-sizing: border-box;top: 0;bottom: 0;left: 50%;z-index: 0;}#sk-container-id-8 div.sk-serial {display: flex;flex-direction: column;align-items: center;background-color: white;padding-right: 0.2em;padding-left: 0.2em;position: relative;}#sk-container-id-8 div.sk-item {position: relative;z-index: 1;}#sk-container-id-8 div.sk-parallel {display: flex;align-items: stretch;justify-content: center;background-color: white;position: relative;}#sk-container-id-8 div.sk-item::before, #sk-container-id-8 div.sk-parallel-item::before {content: \"\";position: absolute;border-left: 1px solid gray;box-sizing: border-box;top: 0;bottom: 0;left: 50%;z-index: -1;}#sk-container-id-8 div.sk-parallel-item {display: flex;flex-direction: column;z-index: 1;position: relative;background-color: white;}#sk-container-id-8 div.sk-parallel-item:first-child::after {align-self: flex-end;width: 50%;}#sk-container-id-8 div.sk-parallel-item:last-child::after {align-self: flex-start;width: 50%;}#sk-container-id-8 div.sk-parallel-item:only-child::after {width: 0;}#sk-container-id-8 div.sk-dashed-wrapped {border: 1px dashed gray;margin: 0 0.4em 0.5em 0.4em;box-sizing: border-box;padding-bottom: 0.4em;background-color: white;}#sk-container-id-8 div.sk-label label {font-family: monospace;font-weight: bold;display: inline-block;line-height: 1.2em;}#sk-container-id-8 div.sk-label-container {text-align: center;}#sk-container-id-8 div.sk-container {/* jupyter's `normalize.less` sets `[hidden] { display: none; }` but bootstrap.min.css set `[hidden] { display: none !important; }` so we also need the `!important` here to be able to override the default hidden behavior on the sphinx rendered scikit-learn.org. See: https://github.com/scikit-learn/scikit-learn/issues/21755 */display: inline-block !important;position: relative;}#sk-container-id-8 div.sk-text-repr-fallback {display: none;}</style><div id=\"sk-container-id-8\" class=\"sk-top-container\"><div class=\"sk-text-repr-fallback\"><pre>GaussianNB(var_smoothing=0.02310129700083159)</pre><b>In a Jupyter environment, please rerun this cell to show the HTML representation or trust the notebook. <br />On GitHub, the HTML representation is unable to render, please try loading this page with nbviewer.org.</b></div><div class=\"sk-container\" hidden><div class=\"sk-item\"><div class=\"sk-estimator sk-toggleable\"><input class=\"sk-toggleable__control sk-hidden--visually\" id=\"sk-estimator-id-8\" type=\"checkbox\" checked><label for=\"sk-estimator-id-8\" class=\"sk-toggleable__label sk-toggleable__label-arrow\">GaussianNB</label><div class=\"sk-toggleable__content\"><pre>GaussianNB(var_smoothing=0.02310129700083159)</pre></div></div></div></div></div>"
      ],
      "text/plain": [
       "GaussianNB(var_smoothing=0.02310129700083159)"
      ]
     },
     "execution_count": 53,
     "metadata": {},
     "output_type": "execute_result"
    }
   ],
   "source": [
    "model_nb = sklearn.naive_bayes.GaussianNB(var_smoothing=0.02310129700083159)\n",
    "model_nb.fit(x1_test, y1_test)"
   ]
  },
  {
   "cell_type": "code",
   "execution_count": 54,
   "id": "de88d11a",
   "metadata": {},
   "outputs": [
    {
     "data": {
      "text/html": [
       "<div>\n",
       "<style scoped>\n",
       "    .dataframe tbody tr th:only-of-type {\n",
       "        vertical-align: middle;\n",
       "    }\n",
       "\n",
       "    .dataframe tbody tr th {\n",
       "        vertical-align: top;\n",
       "    }\n",
       "\n",
       "    .dataframe thead th {\n",
       "        text-align: right;\n",
       "    }\n",
       "</style>\n",
       "<table border=\"1\" class=\"dataframe\">\n",
       "  <thead>\n",
       "    <tr style=\"text-align: right;\">\n",
       "      <th></th>\n",
       "      <th>0</th>\n",
       "    </tr>\n",
       "  </thead>\n",
       "  <tbody>\n",
       "    <tr>\n",
       "      <th>Accuracy</th>\n",
       "      <td>68.72</td>\n",
       "    </tr>\n",
       "    <tr>\n",
       "      <th>Precision</th>\n",
       "      <td>45.14</td>\n",
       "    </tr>\n",
       "    <tr>\n",
       "      <th>Recall</th>\n",
       "      <td>86.23</td>\n",
       "    </tr>\n",
       "    <tr>\n",
       "      <th>F1</th>\n",
       "      <td>59.26</td>\n",
       "    </tr>\n",
       "  </tbody>\n",
       "</table>\n",
       "</div>"
      ],
      "text/plain": [
       "               0\n",
       "Accuracy   68.72\n",
       "Precision  45.14\n",
       "Recall     86.23\n",
       "F1         59.26"
      ]
     },
     "execution_count": 54,
     "metadata": {},
     "output_type": "execute_result"
    }
   ],
   "source": [
    "y_predicted = model_nb.predict(x2_test)\n",
    "accuracy_gnb = sklearn.metrics.accuracy_score(y2_test, y_predicted)\n",
    "accuracy_gnb = round(accuracy_gnb * 100, 2)\n",
    "precision_gnb = round(sklearn.metrics.precision_score(y2_test, y_predicted) * 100, 2)\n",
    "recall_gnb = round(sklearn.metrics.recall_score(y2_test, y_predicted) * 100, 2)\n",
    "f1_gnb = round(sklearn.metrics.f1_score(y2_test, y_predicted) * 100, 2)\n",
    "\n",
    "header = [\"Accuracy\", \"Precision\", \"Recall\", \"F1\"]\n",
    "data_gnb = np.array([accuracy_gnb, precision_gnb, recall_gnb, f1_gnb])\n",
    "pd.DataFrame(data_gnb, header)"
   ]
  },
  {
   "cell_type": "markdown",
   "id": "68db8348",
   "metadata": {},
   "source": [
    "# 4. KNN"
   ]
  },
  {
   "cell_type": "code",
   "execution_count": 59,
   "id": "365fde80",
   "metadata": {
    "scrolled": true
   },
   "outputs": [
    {
     "data": {
      "text/html": [
       "<style>#sk-container-id-11 {color: black;background-color: white;}#sk-container-id-11 pre{padding: 0;}#sk-container-id-11 div.sk-toggleable {background-color: white;}#sk-container-id-11 label.sk-toggleable__label {cursor: pointer;display: block;width: 100%;margin-bottom: 0;padding: 0.3em;box-sizing: border-box;text-align: center;}#sk-container-id-11 label.sk-toggleable__label-arrow:before {content: \"▸\";float: left;margin-right: 0.25em;color: #696969;}#sk-container-id-11 label.sk-toggleable__label-arrow:hover:before {color: black;}#sk-container-id-11 div.sk-estimator:hover label.sk-toggleable__label-arrow:before {color: black;}#sk-container-id-11 div.sk-toggleable__content {max-height: 0;max-width: 0;overflow: hidden;text-align: left;background-color: #f0f8ff;}#sk-container-id-11 div.sk-toggleable__content pre {margin: 0.2em;color: black;border-radius: 0.25em;background-color: #f0f8ff;}#sk-container-id-11 input.sk-toggleable__control:checked~div.sk-toggleable__content {max-height: 200px;max-width: 100%;overflow: auto;}#sk-container-id-11 input.sk-toggleable__control:checked~label.sk-toggleable__label-arrow:before {content: \"▾\";}#sk-container-id-11 div.sk-estimator input.sk-toggleable__control:checked~label.sk-toggleable__label {background-color: #d4ebff;}#sk-container-id-11 div.sk-label input.sk-toggleable__control:checked~label.sk-toggleable__label {background-color: #d4ebff;}#sk-container-id-11 input.sk-hidden--visually {border: 0;clip: rect(1px 1px 1px 1px);clip: rect(1px, 1px, 1px, 1px);height: 1px;margin: -1px;overflow: hidden;padding: 0;position: absolute;width: 1px;}#sk-container-id-11 div.sk-estimator {font-family: monospace;background-color: #f0f8ff;border: 1px dotted black;border-radius: 0.25em;box-sizing: border-box;margin-bottom: 0.5em;}#sk-container-id-11 div.sk-estimator:hover {background-color: #d4ebff;}#sk-container-id-11 div.sk-parallel-item::after {content: \"\";width: 100%;border-bottom: 1px solid gray;flex-grow: 1;}#sk-container-id-11 div.sk-label:hover label.sk-toggleable__label {background-color: #d4ebff;}#sk-container-id-11 div.sk-serial::before {content: \"\";position: absolute;border-left: 1px solid gray;box-sizing: border-box;top: 0;bottom: 0;left: 50%;z-index: 0;}#sk-container-id-11 div.sk-serial {display: flex;flex-direction: column;align-items: center;background-color: white;padding-right: 0.2em;padding-left: 0.2em;position: relative;}#sk-container-id-11 div.sk-item {position: relative;z-index: 1;}#sk-container-id-11 div.sk-parallel {display: flex;align-items: stretch;justify-content: center;background-color: white;position: relative;}#sk-container-id-11 div.sk-item::before, #sk-container-id-11 div.sk-parallel-item::before {content: \"\";position: absolute;border-left: 1px solid gray;box-sizing: border-box;top: 0;bottom: 0;left: 50%;z-index: -1;}#sk-container-id-11 div.sk-parallel-item {display: flex;flex-direction: column;z-index: 1;position: relative;background-color: white;}#sk-container-id-11 div.sk-parallel-item:first-child::after {align-self: flex-end;width: 50%;}#sk-container-id-11 div.sk-parallel-item:last-child::after {align-self: flex-start;width: 50%;}#sk-container-id-11 div.sk-parallel-item:only-child::after {width: 0;}#sk-container-id-11 div.sk-dashed-wrapped {border: 1px dashed gray;margin: 0 0.4em 0.5em 0.4em;box-sizing: border-box;padding-bottom: 0.4em;background-color: white;}#sk-container-id-11 div.sk-label label {font-family: monospace;font-weight: bold;display: inline-block;line-height: 1.2em;}#sk-container-id-11 div.sk-label-container {text-align: center;}#sk-container-id-11 div.sk-container {/* jupyter's `normalize.less` sets `[hidden] { display: none; }` but bootstrap.min.css set `[hidden] { display: none !important; }` so we also need the `!important` here to be able to override the default hidden behavior on the sphinx rendered scikit-learn.org. See: https://github.com/scikit-learn/scikit-learn/issues/21755 */display: inline-block !important;position: relative;}#sk-container-id-11 div.sk-text-repr-fallback {display: none;}</style><div id=\"sk-container-id-11\" class=\"sk-top-container\"><div class=\"sk-text-repr-fallback\"><pre>KNeighborsClassifier(leaf_size=1, metric=&#x27;manhattan&#x27;, n_neighbors=10, p=1)</pre><b>In a Jupyter environment, please rerun this cell to show the HTML representation or trust the notebook. <br />On GitHub, the HTML representation is unable to render, please try loading this page with nbviewer.org.</b></div><div class=\"sk-container\" hidden><div class=\"sk-item\"><div class=\"sk-estimator sk-toggleable\"><input class=\"sk-toggleable__control sk-hidden--visually\" id=\"sk-estimator-id-11\" type=\"checkbox\" checked><label for=\"sk-estimator-id-11\" class=\"sk-toggleable__label sk-toggleable__label-arrow\">KNeighborsClassifier</label><div class=\"sk-toggleable__content\"><pre>KNeighborsClassifier(leaf_size=1, metric=&#x27;manhattan&#x27;, n_neighbors=10, p=1)</pre></div></div></div></div></div>"
      ],
      "text/plain": [
       "KNeighborsClassifier(leaf_size=1, metric='manhattan', n_neighbors=10, p=1)"
      ]
     },
     "execution_count": 59,
     "metadata": {},
     "output_type": "execute_result"
    }
   ],
   "source": [
    "model_knn = sklearn.neighbors.KNeighborsClassifier(\n",
    "    leaf_size=1, n_neighbors=10, metric=\"manhattan\", p=1, weights=\"uniform\"\n",
    ")\n",
    "model_knn.fit(x1_test, y1_test)"
   ]
  },
  {
   "cell_type": "code",
   "execution_count": 60,
   "id": "0009a788",
   "metadata": {},
   "outputs": [
    {
     "data": {
      "text/html": [
       "<div>\n",
       "<style scoped>\n",
       "    .dataframe tbody tr th:only-of-type {\n",
       "        vertical-align: middle;\n",
       "    }\n",
       "\n",
       "    .dataframe tbody tr th {\n",
       "        vertical-align: top;\n",
       "    }\n",
       "\n",
       "    .dataframe thead th {\n",
       "        text-align: right;\n",
       "    }\n",
       "</style>\n",
       "<table border=\"1\" class=\"dataframe\">\n",
       "  <thead>\n",
       "    <tr style=\"text-align: right;\">\n",
       "      <th></th>\n",
       "      <th>0</th>\n",
       "    </tr>\n",
       "  </thead>\n",
       "  <tbody>\n",
       "    <tr>\n",
       "      <th>Accuracy</th>\n",
       "      <td>78.52</td>\n",
       "    </tr>\n",
       "    <tr>\n",
       "      <th>Precision</th>\n",
       "      <td>60.26</td>\n",
       "    </tr>\n",
       "    <tr>\n",
       "      <th>Recall</th>\n",
       "      <td>54.49</td>\n",
       "    </tr>\n",
       "    <tr>\n",
       "      <th>F1</th>\n",
       "      <td>57.23</td>\n",
       "    </tr>\n",
       "  </tbody>\n",
       "</table>\n",
       "</div>"
      ],
      "text/plain": [
       "               0\n",
       "Accuracy   78.52\n",
       "Precision  60.26\n",
       "Recall     54.49\n",
       "F1         57.23"
      ]
     },
     "execution_count": 60,
     "metadata": {},
     "output_type": "execute_result"
    }
   ],
   "source": [
    "y_predicted = model_knn.predict(x2_test)\n",
    "accuracy_knn = sklearn.metrics.accuracy_score(y2_test, y_predicted)\n",
    "accuracy_knn = round(accuracy_knn * 100, 2)\n",
    "precision_knn = round(sklearn.metrics.precision_score(y2_test, y_predicted) * 100, 2)\n",
    "recall_knn = round(sklearn.metrics.recall_score(y2_test, y_predicted) * 100, 2)\n",
    "f1_knn = round(sklearn.metrics.f1_score(y2_test, y_predicted) * 100, 2)\n",
    "\n",
    "header = [\"Accuracy\", \"Precision\", \"Recall\", \"F1\"]\n",
    "data_knn = np.array([accuracy_knn, precision_knn, recall_knn, f1_knn])\n",
    "pd.DataFrame(data_knn, header)"
   ]
  },
  {
   "cell_type": "markdown",
   "id": "f00cc676",
   "metadata": {},
   "source": [
    "# 5. Logistic Regression"
   ]
  },
  {
   "cell_type": "code",
   "execution_count": 63,
   "id": "aa21b751",
   "metadata": {},
   "outputs": [
    {
     "data": {
      "text/html": [
       "<style>#sk-container-id-13 {color: black;background-color: white;}#sk-container-id-13 pre{padding: 0;}#sk-container-id-13 div.sk-toggleable {background-color: white;}#sk-container-id-13 label.sk-toggleable__label {cursor: pointer;display: block;width: 100%;margin-bottom: 0;padding: 0.3em;box-sizing: border-box;text-align: center;}#sk-container-id-13 label.sk-toggleable__label-arrow:before {content: \"▸\";float: left;margin-right: 0.25em;color: #696969;}#sk-container-id-13 label.sk-toggleable__label-arrow:hover:before {color: black;}#sk-container-id-13 div.sk-estimator:hover label.sk-toggleable__label-arrow:before {color: black;}#sk-container-id-13 div.sk-toggleable__content {max-height: 0;max-width: 0;overflow: hidden;text-align: left;background-color: #f0f8ff;}#sk-container-id-13 div.sk-toggleable__content pre {margin: 0.2em;color: black;border-radius: 0.25em;background-color: #f0f8ff;}#sk-container-id-13 input.sk-toggleable__control:checked~div.sk-toggleable__content {max-height: 200px;max-width: 100%;overflow: auto;}#sk-container-id-13 input.sk-toggleable__control:checked~label.sk-toggleable__label-arrow:before {content: \"▾\";}#sk-container-id-13 div.sk-estimator input.sk-toggleable__control:checked~label.sk-toggleable__label {background-color: #d4ebff;}#sk-container-id-13 div.sk-label input.sk-toggleable__control:checked~label.sk-toggleable__label {background-color: #d4ebff;}#sk-container-id-13 input.sk-hidden--visually {border: 0;clip: rect(1px 1px 1px 1px);clip: rect(1px, 1px, 1px, 1px);height: 1px;margin: -1px;overflow: hidden;padding: 0;position: absolute;width: 1px;}#sk-container-id-13 div.sk-estimator {font-family: monospace;background-color: #f0f8ff;border: 1px dotted black;border-radius: 0.25em;box-sizing: border-box;margin-bottom: 0.5em;}#sk-container-id-13 div.sk-estimator:hover {background-color: #d4ebff;}#sk-container-id-13 div.sk-parallel-item::after {content: \"\";width: 100%;border-bottom: 1px solid gray;flex-grow: 1;}#sk-container-id-13 div.sk-label:hover label.sk-toggleable__label {background-color: #d4ebff;}#sk-container-id-13 div.sk-serial::before {content: \"\";position: absolute;border-left: 1px solid gray;box-sizing: border-box;top: 0;bottom: 0;left: 50%;z-index: 0;}#sk-container-id-13 div.sk-serial {display: flex;flex-direction: column;align-items: center;background-color: white;padding-right: 0.2em;padding-left: 0.2em;position: relative;}#sk-container-id-13 div.sk-item {position: relative;z-index: 1;}#sk-container-id-13 div.sk-parallel {display: flex;align-items: stretch;justify-content: center;background-color: white;position: relative;}#sk-container-id-13 div.sk-item::before, #sk-container-id-13 div.sk-parallel-item::before {content: \"\";position: absolute;border-left: 1px solid gray;box-sizing: border-box;top: 0;bottom: 0;left: 50%;z-index: -1;}#sk-container-id-13 div.sk-parallel-item {display: flex;flex-direction: column;z-index: 1;position: relative;background-color: white;}#sk-container-id-13 div.sk-parallel-item:first-child::after {align-self: flex-end;width: 50%;}#sk-container-id-13 div.sk-parallel-item:last-child::after {align-self: flex-start;width: 50%;}#sk-container-id-13 div.sk-parallel-item:only-child::after {width: 0;}#sk-container-id-13 div.sk-dashed-wrapped {border: 1px dashed gray;margin: 0 0.4em 0.5em 0.4em;box-sizing: border-box;padding-bottom: 0.4em;background-color: white;}#sk-container-id-13 div.sk-label label {font-family: monospace;font-weight: bold;display: inline-block;line-height: 1.2em;}#sk-container-id-13 div.sk-label-container {text-align: center;}#sk-container-id-13 div.sk-container {/* jupyter's `normalize.less` sets `[hidden] { display: none; }` but bootstrap.min.css set `[hidden] { display: none !important; }` so we also need the `!important` here to be able to override the default hidden behavior on the sphinx rendered scikit-learn.org. See: https://github.com/scikit-learn/scikit-learn/issues/21755 */display: inline-block !important;position: relative;}#sk-container-id-13 div.sk-text-repr-fallback {display: none;}</style><div id=\"sk-container-id-13\" class=\"sk-top-container\"><div class=\"sk-text-repr-fallback\"><pre>LogisticRegression(C=1100, solver=&#x27;sag&#x27;, tol=0.1)</pre><b>In a Jupyter environment, please rerun this cell to show the HTML representation or trust the notebook. <br />On GitHub, the HTML representation is unable to render, please try loading this page with nbviewer.org.</b></div><div class=\"sk-container\" hidden><div class=\"sk-item\"><div class=\"sk-estimator sk-toggleable\"><input class=\"sk-toggleable__control sk-hidden--visually\" id=\"sk-estimator-id-13\" type=\"checkbox\" checked><label for=\"sk-estimator-id-13\" class=\"sk-toggleable__label sk-toggleable__label-arrow\">LogisticRegression</label><div class=\"sk-toggleable__content\"><pre>LogisticRegression(C=1100, solver=&#x27;sag&#x27;, tol=0.1)</pre></div></div></div></div></div>"
      ],
      "text/plain": [
       "LogisticRegression(C=1100, solver='sag', tol=0.1)"
      ]
     },
     "execution_count": 63,
     "metadata": {},
     "output_type": "execute_result"
    }
   ],
   "source": [
    "model_lr = sklearn.linear_model.LogisticRegression(\n",
    "    C=1100, penalty=\"l2\", solver=\"sag\", tol= 0.1\n",
    ")\n",
    "model_lr.fit(x1_test, y1_test)"
   ]
  },
  {
   "cell_type": "code",
   "execution_count": 64,
   "id": "1f615666",
   "metadata": {},
   "outputs": [
    {
     "data": {
      "text/html": [
       "<div>\n",
       "<style scoped>\n",
       "    .dataframe tbody tr th:only-of-type {\n",
       "        vertical-align: middle;\n",
       "    }\n",
       "\n",
       "    .dataframe tbody tr th {\n",
       "        vertical-align: top;\n",
       "    }\n",
       "\n",
       "    .dataframe thead th {\n",
       "        text-align: right;\n",
       "    }\n",
       "</style>\n",
       "<table border=\"1\" class=\"dataframe\">\n",
       "  <thead>\n",
       "    <tr style=\"text-align: right;\">\n",
       "      <th></th>\n",
       "      <th>0</th>\n",
       "    </tr>\n",
       "  </thead>\n",
       "  <tbody>\n",
       "    <tr>\n",
       "      <th>Accuracy</th>\n",
       "      <td>80.57</td>\n",
       "    </tr>\n",
       "    <tr>\n",
       "      <th>Precision</th>\n",
       "      <td>67.19</td>\n",
       "    </tr>\n",
       "    <tr>\n",
       "      <th>Recall</th>\n",
       "      <td>51.50</td>\n",
       "    </tr>\n",
       "    <tr>\n",
       "      <th>F1</th>\n",
       "      <td>58.31</td>\n",
       "    </tr>\n",
       "  </tbody>\n",
       "</table>\n",
       "</div>"
      ],
      "text/plain": [
       "               0\n",
       "Accuracy   80.57\n",
       "Precision  67.19\n",
       "Recall     51.50\n",
       "F1         58.31"
      ]
     },
     "execution_count": 64,
     "metadata": {},
     "output_type": "execute_result"
    }
   ],
   "source": [
    "y_predicted = model_lr.predict(x2_test)\n",
    "accuracy_lr = sklearn.metrics.accuracy_score(y2_test, y_predicted)\n",
    "accuracy_lr = round(accuracy_lr * 100, 2)\n",
    "precision_lr = round(sklearn.metrics.precision_score(y2_test, y_predicted) * 100, 2)\n",
    "recall_lr = round(sklearn.metrics.recall_score(y2_test, y_predicted) * 100, 2)\n",
    "f1_lr = round(sklearn.metrics.f1_score(y2_test, y_predicted) * 100, 2)\n",
    "\n",
    "header = [\"Accuracy\", \"Precision\", \"Recall\", \"F1\"]\n",
    "data_lr = np.array([accuracy_lr, precision_lr, recall_lr, f1_lr])\n",
    "pd.DataFrame(data_lr, header)"
   ]
  },
  {
   "cell_type": "markdown",
   "id": "a1cf959d",
   "metadata": {},
   "source": [
    "# Model Selection"
   ]
  },
  {
   "cell_type": "markdown",
   "id": "402935ef",
   "metadata": {},
   "source": [
    "All the above results are integrated into the below table to have a better view and conclusion."
   ]
  },
  {
   "cell_type": "code",
   "execution_count": 66,
   "id": "a8833b57",
   "metadata": {},
   "outputs": [
    {
     "name": "stdout",
     "output_type": "stream",
     "text": [
      "===================== ========== =========== ======== =======\n",
      "        Model          Accuracy   Precision   Recall    F1   \n",
      "===================== ========== =========== ======== =======\n",
      " \u001b[34mLogistic Regression\u001b[0m    80.57       67.19      51.5    58.31 \n",
      "         SVM            79.78       64.44      52.1    57.62 \n",
      "         KNN            78.52       60.26     54.49    57.23 \n",
      "    Decision Tree       77.25       57.42     53.29    55.28 \n",
      "     Gaussian NB        68.72       45.14     86.23    59.26 \n",
      "===================== ========== =========== ======== =======\n"
     ]
    }
   ],
   "source": [
    "result = BeautifulTable()\n",
    "result.set_style(BeautifulTable.STYLE_RST)\n",
    "result.column_headers = [\"Model\", \"Accuracy\", \"Precision\", \"Recall\", \"F1\"]\n",
    "result.append_row([\"Decision Tree\", accuracy_dt, precision_dt, recall_dt, f1_dt])\n",
    "result.append_row([\"SVM\", accuracy_svm, precision_svm, recall_svm, f1_svm])\n",
    "result.append_row([\"Gaussian NB\", accuracy_gnb, precision_gnb, recall_gnb, f1_gnb])\n",
    "result.append_row([\"KNN\",  accuracy_knn, precision_knn, recall_knn, f1_knn])\n",
    "result.append_row(\n",
    "    [\n",
    "        colored(\"Logistic Regression\", \"blue\"),\n",
    "        accuracy_lr,\n",
    "        precision_lr,\n",
    "        recall_lr,\n",
    "        f1_lr,\n",
    "    ]\n",
    ")\n",
    "result.rows.sort(\"Accuracy\", reverse=True)\n",
    "print(result)"
   ]
  },
  {
   "cell_type": "markdown",
   "id": "c289e36e",
   "metadata": {},
   "source": [
    "As it is observed, the Logistic Regression method has better \"Accuracy\" and \"Precision\" in comparison with other models.\n",
    "\n",
    "Also worth mentioning all test scores are lower than train score which mean we probably didn't have data leakage and overfitting issues."
   ]
  },
  {
   "cell_type": "markdown",
   "id": "7b1644cd",
   "metadata": {},
   "source": [
    "# Analysis, Suggestion"
   ]
  },
  {
   "cell_type": "markdown",
   "id": "2b328339",
   "metadata": {},
   "source": [
    "In the end, according to some approaches from expert ML specialists: \"The metrics alone aren’t enough to determine if our model is usable in real-life scenarios. (The definitive guide to Accuracy, Precision, and Recall for product developers, 2022)\n",
    "we must establish a baseline score and compare our model’s performance against that baseline score.\" In the future, we’ll try to focus on this metric to assess how much these findings are practical with real data and similar datasets.\n",
    "\n",
    "Since our model doesn't concentrate on fraudulent activity, higher precision might be not our main area of interest. However, we utilized the other measures, like \"Recall\" and \"F1,\" to see how our model was behaving.\n",
    "\n",
    "According to what was learned via practice, the \"SVM\" method is not very effective for comparable data since it takes too long and costs too much to calculate. However, \"KNN\" is an additional option after \"Logistic Regression,\" which is quicker than \"SVM.\"\n",
    "\n",
    "Other classification methods, including \"Random Forest Classification\" and \"Kernel SVM,\" that may be used in practice are those that have been explored.\n",
    "\n",
    "As mentioned, testing certain ML algorithms for Classification is just getting started, and more tuning will be required to attain better outcomes."
   ]
  },
  {
   "cell_type": "markdown",
   "id": "a801e5ce",
   "metadata": {},
   "source": [
    "# Reference:"
   ]
  },
  {
   "cell_type": "markdown",
   "id": "a0a61090",
   "metadata": {},
   "source": [
    "\n",
    "* Kaggle.com. 2022. Telco Customer Churn. [online] Available at: <https://www.kaggle.com/datasets/blastchar/telco-customer-churn?select=WA_Fn-UseC_-Telco-Customer-Churn.csv> [Accessed 19 August 2022].\n",
    "\n",
    "* Community.ibm.com. 2022. Telco customer churn (11.1.3+). [online] Available at: <https://community.ibm.com/community/user/businessanalytics/blogs/steven-macko/2019/07/11/telco-customer-churn-1113> [Accessed 19 August 2022].\n",
    "\n",
    "* DEV Community 👩‍💻👨‍💻. 2022. The definitive guide to Accuracy, Precision, and Recall for product developers. [online] Available at: <https://dev.to/mage_ai/the-definitive-guide-to-accuracy-precision-and-recall-for-product-developers-4ahg> [Accessed 20 September 2022]."
   ]
  }
 ],
 "metadata": {
  "celltoolbar": "Raw Cell Format",
  "kernelspec": {
   "display_name": "Python 3 (ipykernel)",
   "language": "python",
   "name": "python3"
  },
  "language_info": {
   "codemirror_mode": {
    "name": "ipython",
    "version": 3
   },
   "file_extension": ".py",
   "mimetype": "text/x-python",
   "name": "python",
   "nbconvert_exporter": "python",
   "pygments_lexer": "ipython3",
   "version": "3.9.13"
  }
 },
 "nbformat": 4,
 "nbformat_minor": 5
}
